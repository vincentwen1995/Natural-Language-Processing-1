{
  "nbformat": 4,
  "nbformat_minor": 0,
  "metadata": {
    "colab": {
      "name": "NLP1 Practical I_KaiLiang_XiaoxiaoWen",
      "version": "0.3.2",
      "provenance": [],
      "collapsed_sections": [],
      "include_colab_link": true
    },
    "kernelspec": {
      "name": "python3",
      "display_name": "Python 3"
    }
  },
  "cells": [
    {
      "cell_type": "markdown",
      "metadata": {
        "id": "view-in-github",
        "colab_type": "text"
      },
      "source": [
        "<a href=\"https://colab.research.google.com/gist/vincentwen1995/07f17ff2e945ba23907f7701202ad605/nlp1-practical-i_kailiang_xiaoxiaowen.ipynb\" target=\"_parent\"><img src=\"https://colab.research.google.com/assets/colab-badge.svg\" alt=\"Open In Colab\"/></a>"
      ]
    },
    {
      "metadata": {
        "id": "lIZrAUx57vsM",
        "colab_type": "text"
      },
      "cell_type": "markdown",
      "source": [
        "Practical 1: Sentiment Detection of Movie Reviews\n",
        "========================================\n",
        "\n"
      ]
    },
    {
      "metadata": {
        "id": "J4kXPMhyngZW",
        "colab_type": "text"
      },
      "cell_type": "markdown",
      "source": [
        "This practical concerns sentiment detection of movie reviews.\n",
        "In [this file](https://gist.githubusercontent.com/bastings/d47423301cca214e3930061a5a75e177/raw/5113687382919e22b1f09ce71a8fecd1687a5760/reviews.json) (80MB) you will find 1000 positive and 1000 negative **movie reviews**.\n",
        "Each review is a **document** and consists of one or more sentences.\n",
        "\n",
        "To prepare yourself for this practical, you should\n",
        "have a look at a few of these texts to understand the difficulties of\n",
        "the task (how might one go about classifying the texts?); you will write\n",
        "code that decides whether a random unseen movie review is positive or\n",
        "negative.\n",
        "\n",
        "Please make sure you have read the following paper:\n",
        "\n",
        ">   Bo Pang, Lillian Lee, and Shivakumar Vaithyanathan\n",
        "(2002). \n",
        "[Thumbs up? Sentiment Classification using Machine Learning\n",
        "Techniques](https://dl.acm.org/citation.cfm?id=1118704). EMNLP.\n",
        "\n",
        "Bo Pang et al. were the \"inventors\" of the movie review sentiment\n",
        "classification task, and the above paper was one of the first papers on\n",
        "the topic. The first version of your sentiment classifier will do\n",
        "something similar to Bo Pang’s system. If you have questions about it,\n",
        "we should resolve them in our first demonstrated practical.\n"
      ]
    },
    {
      "metadata": {
        "id": "cb7errgRASzZ",
        "colab_type": "text"
      },
      "cell_type": "markdown",
      "source": [
        "**Advice**\n",
        "\n",
        "Please read through the entire practical and familiarise\n",
        "yourself with all requirements before you start coding or otherwise\n",
        "solving the tasks. Writing clean and concise code can make the difference\n",
        "between solving the assignment in a matter of hours, and taking days to\n",
        "run all experiments.\n",
        "\n",
        "**Environment**\n",
        "\n",
        "All code should be written in **Python 3**. \n",
        "If you use Colab, check if you have that version with `Runtime -> Change runtime type` in the top menu.\n",
        "\n",
        "> If you want to work in your own computer, then download this notebook through `File -> Download .ipynb`.\n",
        "The easiest way to\n",
        "install Python is through downloading\n",
        "[Anaconda](https://www.anaconda.com/download). \n",
        "After installation, you can start the notebook by typing `jupyter notebook filename.ipynb`.\n",
        "You can also use an IDE\n",
        "such as [PyCharm](https://www.jetbrains.com/pycharm/download/) to make\n",
        "coding and debugging easier. It is good practice to create a [virtual\n",
        "environment](https://docs.python.org/3/tutorial/venv.html) for this\n",
        "project, so that any Python packages don’t interfere with other\n",
        "projects.\n",
        "\n",
        "#### Learning Python 3\n",
        "\n",
        "If you are new to Python 3, you may want to check out a few of these resources:\n",
        "- https://learnxinyminutes.com/docs/python3/\n",
        "- https://www.learnpython.org/\n",
        "- https://docs.python.org/3/tutorial/"
      ]
    },
    {
      "metadata": {
        "id": "bXWyGHwE-ieQ",
        "colab_type": "text"
      },
      "cell_type": "markdown",
      "source": [
        "Loading the Data\n",
        "-------------------------------------------------------------"
      ]
    },
    {
      "metadata": {
        "id": "lm-rakqtlMOT",
        "colab_type": "code",
        "outputId": "e40548ac-ea97-4622-b436-212d723ecbb0",
        "colab": {
          "base_uri": "https://localhost:8080/",
          "height": 391
        }
      },
      "cell_type": "code",
      "source": [
        "# download sentiment lexicon (Downloaded)\n",
        "!wget https://gist.githubusercontent.com/bastings/d6f99dcb6c82231b94b013031356ba05/raw/f80a0281eba8621b122012c89c8b5e2200b39fd6/sent_lexicon\n",
        "# download review data (Downloaded)\n",
        "!wget https://gist.githubusercontent.com/bastings/d47423301cca214e3930061a5a75e177/raw/5113687382919e22b1f09ce71a8fecd1687a5760/reviews.json"
      ],
      "execution_count": 0,
      "outputs": [
        {
          "output_type": "stream",
          "text": [
            "--2018-11-23 19:15:27--  https://gist.githubusercontent.com/bastings/d6f99dcb6c82231b94b013031356ba05/raw/f80a0281eba8621b122012c89c8b5e2200b39fd6/sent_lexicon\n",
            "Resolving gist.githubusercontent.com (gist.githubusercontent.com)... 151.101.0.133, 151.101.64.133, 151.101.128.133, ...\n",
            "Connecting to gist.githubusercontent.com (gist.githubusercontent.com)|151.101.0.133|:443... connected.\n",
            "HTTP request sent, awaiting response... 200 OK\n",
            "Length: 662577 (647K) [text/plain]\n",
            "Saving to: ‘sent_lexicon’\n",
            "\n",
            "sent_lexicon        100%[===================>] 647.05K  --.-KB/s    in 0.1s    \n",
            "\n",
            "2018-11-23 19:15:32 (6.54 MB/s) - ‘sent_lexicon’ saved [662577/662577]\n",
            "\n",
            "--2018-11-23 19:15:33--  https://gist.githubusercontent.com/bastings/d47423301cca214e3930061a5a75e177/raw/5113687382919e22b1f09ce71a8fecd1687a5760/reviews.json\n",
            "Resolving gist.githubusercontent.com (gist.githubusercontent.com)... 151.101.0.133, 151.101.64.133, 151.101.128.133, ...\n",
            "Connecting to gist.githubusercontent.com (gist.githubusercontent.com)|151.101.0.133|:443... connected.\n",
            "HTTP request sent, awaiting response... 200 OK\n",
            "Length: 83503869 (80M) [text/plain]\n",
            "Saving to: ‘reviews.json’\n",
            "\n",
            "reviews.json        100%[===================>]  79.63M  35.0MB/s    in 2.3s    \n",
            "\n",
            "2018-11-23 19:15:36 (35.0 MB/s) - ‘reviews.json’ saved [83503869/83503869]\n",
            "\n"
          ],
          "name": "stdout"
        }
      ]
    },
    {
      "metadata": {
        "id": "hok-BFu9lGoK",
        "colab_type": "code",
        "colab": {}
      },
      "cell_type": "code",
      "source": [
        "import math\n",
        "import os\n",
        "import sys\n",
        "from subprocess import call\n",
        "from nltk import FreqDist\n",
        "from nltk.util import ngrams\n",
        "from nltk.stem.porter import PorterStemmer\n",
        "import sklearn as sk\n",
        "from google.colab import drive\n",
        "import pickle\n",
        "import json\n",
        "from collections import Counter, defaultdict\n",
        "import requests\n",
        "import matplotlib.pyplot as plt\n",
        "import numpy as np\n",
        "from decimal import *\n",
        "from scipy.special import comb\n",
        "import math\n",
        "from sklearn import svm\n",
        "from sklearn.feature_extraction import DictVectorizer"
      ],
      "execution_count": 0,
      "outputs": []
    },
    {
      "metadata": {
        "id": "careEKj-mRpl",
        "colab_type": "code",
        "outputId": "300f6404-9cd6-4542-ed67-959aba7c06c1",
        "colab": {
          "base_uri": "https://localhost:8080/",
          "height": 683
        }
      },
      "cell_type": "code",
      "source": [
        "# load reviews into memory\n",
        "# file structure:\n",
        "# [\n",
        "#  {\"cv\": integer, \"sentiment\": str, \"content\": list} \n",
        "#  {\"cv\": integer, \"sentiment\": str, \"content\": list} \n",
        "#   ..\n",
        "# ]\n",
        "# where `content` is a list of sentences, \n",
        "# with a sentence being a list of (token, pos_tag) pairs.\n",
        "\n",
        "# For documentation on POS-tags, see \n",
        "# https://catalog.ldc.upenn.edu/docs/LDC99T42/tagguid1.pdf\n",
        "\n",
        "with open(\"reviews.json\", mode=\"r\", encoding=\"utf-8\") as f:\n",
        "  reviews = json.load(f)\n",
        "\n",
        "sent_lex_raw = []\n",
        "with open(\"sent_lexicon\", mode=\"r\", encoding=\"utf-8\") as f:\n",
        "  for line in f:\n",
        "    sent_lex_raw.append(line)\n",
        "\n",
        "sent_lex = dict()\n",
        "for line in sent_lex_raw:\n",
        "  line_parsed = line.split()\n",
        "  word = line_parsed[2].split('=')[1]\n",
        "  sentiment = line_parsed[5].split('=')[1]\n",
        "  sent_lex[word] = sentiment\n",
        "\n",
        "weighted_sent_lex = dict()\n",
        "for line in sent_lex_raw:\n",
        "  line_parsed = line.split()\n",
        "  word = line_parsed[2].split('=')[1]\n",
        "  weight = line_parsed[0].split('=')[1]\n",
        "  weighted_sent_lex[word] = weight\n",
        "\n",
        "def print_sentence_with_pos(s):\n",
        "  print(\" \".join(\"%s/%s\" % (token, pos_tag) for token, pos_tag in s))\n",
        "\n",
        "for i, r in enumerate(reviews):\n",
        "  print(r[\"cv\"], r[\"sentiment\"], len(r[\"content\"]))  # cv, sentiment, num sents\n",
        "  print_sentence_with_pos(r[\"content\"][0])\n",
        "  if i == 4: \n",
        "    break\n",
        "\n",
        "c = Counter()\n",
        "for review in reviews:\n",
        "  for sentence in review[\"content\"]:\n",
        "    for token, pos_tag in sentence:\n",
        "      c[token.lower()] += 1\n",
        "      \n",
        "print(\"#types\", len(c))\n",
        "print(\"Total number of words: {}\".format(sum(c.values())))\n",
        "print(\"Most common tokens:\")\n",
        "for token, count in c.most_common(25):\n",
        "  print(\"%10s : %8d\" % (token, count))\n",
        "  "
      ],
      "execution_count": 0,
      "outputs": [
        {
          "output_type": "stream",
          "text": [
            "0 NEG 29\n",
            "Two/CD teen/JJ couples/NNS go/VBP to/TO a/DT church/NN party/NN ,/, drink/NN and/CC then/RB drive/NN ./.\n",
            "1 NEG 11\n",
            "Damn/JJ that/IN Y2K/CD bug/NN ./.\n",
            "2 NEG 24\n",
            "It/PRP is/VBZ movies/NNS like/IN these/DT that/WDT make/VBP a/DT jaded/JJ movie/NN viewer/NN thankful/JJ for/IN the/DT invention/NN of/IN the/DT Timex/NNP IndiGlo/NNP watch/NN ./.\n",
            "3 NEG 19\n",
            "QUEST/NN FOR/IN CAMELOT/NNP ``/`` Quest/NNP for/IN Camelot/NNP ''/'' is/VBZ Warner/NNP Bros./NNP '/POS first/JJ feature-length/JJ ,/, fully-animated/JJ attempt/NN to/TO steal/VB clout/NN from/IN Disney/NNP 's/POS cartoon/NN empire/NN ,/, but/CC the/DT mouse/NN has/VBZ no/DT reason/NN to/TO be/VB worried/VBN ./.\n",
            "4 NEG 38\n",
            "Synopsis/NNPS :/: A/DT mentally/RB unstable/JJ man/NN undergoing/VBG psychotherapy/NN saves/VBZ a/DT boy/NN from/IN a/DT potentially/RB fatal/JJ accident/NN and/CC then/RB falls/VBZ in/IN love/NN with/IN the/DT boy/NN 's/POS mother/NN ,/, a/DT fledgling/NN restauranteur/NN ./.\n",
            "#types 47743\n",
            "Total number of words: 1512359\n",
            "Most common tokens:\n",
            "         , :    77842\n",
            "       the :    75948\n",
            "         . :    59027\n",
            "         a :    37583\n",
            "       and :    35235\n",
            "        of :    33864\n",
            "        to :    31601\n",
            "        is :    25972\n",
            "        in :    21563\n",
            "        's :    18043\n",
            "        it :    15904\n",
            "      that :    15820\n",
            "     -rrb- :    11768\n",
            "     -lrb- :    11670\n",
            "        as :    11312\n",
            "      with :    10739\n",
            "       for :     9816\n",
            "       his :     9542\n",
            "      this :     9497\n",
            "      film :     9404\n",
            "        '' :     9282\n",
            "        he :     8804\n",
            "        `` :     8801\n",
            "         i :     8619\n",
            "       but :     8537\n"
          ],
          "name": "stdout"
        }
      ]
    },
    {
      "metadata": {
        "id": "E6PWaEoh8B34",
        "colab_type": "text"
      },
      "cell_type": "markdown",
      "source": [
        "Symbolic approach – sentiment lexicon (2pts)\n",
        "---------------------------------------------------------------------\n",
        "\n"
      ]
    },
    {
      "metadata": {
        "id": "JsTSMb6ma4E8",
        "colab_type": "text"
      },
      "cell_type": "markdown",
      "source": [
        "**How** could one automatically classify movie reviews according to their\n",
        "\n",
        "sentiment? \n",
        "\n",
        "If we had access to a **sentiment lexicon**, then there are ways to solve\n",
        "the problem without using Machine Learning. One might simply look up\n",
        "every open-class word in the lexicon, and compute a binary score\n",
        "$S_{binary}$ by counting how many words match either a positive, or a\n",
        "negative word entry in the sentiment lexicon $SLex$.\n",
        "\n",
        "$$S_{binary}(w_1w_2...w_n) = \\sum_{i = 1}^{n}\\text{sgn}(SLex\\big[w_i\\big])$$\n",
        "\n",
        "**Threshold.** In average there are more positive than negative words per review (~7.13 more positive than negative per review) to take this bias into account you should use a threshold of **8** (roughly the bias itself) to make it harder to classify as positive.\n",
        "\n",
        "$$\n",
        "\\text{classify}(S_{binary}(w_1w_2...w_n)) = \\bigg\\{\\begin{array}{ll}\n",
        "        \\text{positive} & \\text{if } S_{binary}(w_1w_2...w_n) > threshold\\\\\n",
        "        \\text{negative} & \\text{else }\n",
        "        \\end{array}\n",
        "$$\n",
        "\n",
        "To implement this approach, you should use the sentiment\n",
        "lexicon in `sent_lexicon`, which was taken from the\n",
        "following work:\n",
        "\n",
        "> Theresa Wilson, Janyce Wiebe, and Paul Hoffmann\n",
        "(2005). [Recognizing Contextual Polarity in Phrase-Level Sentiment\n",
        "Analysis](http://www.aclweb.org/anthology/H/H05/H05-1044.pdf). HLT-EMNLP."
      ]
    },
    {
      "metadata": {
        "id": "tOFnMvbeeZrc",
        "colab_type": "text"
      },
      "cell_type": "markdown",
      "source": [
        "#### (Q: 1.1) Implement this approach and report its classification accuracy. (1 pt)"
      ]
    },
    {
      "metadata": {
        "id": "muskq16Md-uZ",
        "colab_type": "code",
        "colab": {}
      },
      "cell_type": "code",
      "source": [
        "def sgn_slex(priorpolarity):\n",
        "  if priorpolarity == 'positive':\n",
        "    return 1\n",
        "  elif priorpolarity == 'negative':\n",
        "    return -1\n",
        "  else:\n",
        "    return 0\n",
        "\n",
        "token_results = []\n",
        "token_correctness = []\n",
        "token_correct_count = 0\n",
        "threshold = 8\n",
        "for index, review in enumerate(reviews):\n",
        "  s_bin = 0\n",
        "  for sentence in review[\"content\"]:\n",
        "    for token, pos_tag in sentence:\n",
        "      s_bin += sgn_slex(sent_lex.get(token.lower(), \"unknown\"))\n",
        "  if s_bin > threshold:\n",
        "    token_results.append('POS')\n",
        "    if token_results[-1] == review[\"sentiment\"]:\n",
        "      token_correct_count += 1\n",
        "      token_correctness.append('+')\n",
        "    else:\n",
        "      token_correctness.append('-')\n",
        "  else:\n",
        "    token_results.append('NEG')\n",
        "    if token_results[-1] == review[\"sentiment\"]:\n",
        "      token_correct_count += 1\n",
        "      token_correctness.append('+')\n",
        "    else:\n",
        "      token_correctness.append('-')"
      ],
      "execution_count": 0,
      "outputs": []
    },
    {
      "metadata": {
        "id": "iy528EUTphz5",
        "colab_type": "code",
        "outputId": "52f94034-ef48-4d7d-a54d-83270982cf7f",
        "colab": {
          "base_uri": "https://localhost:8080/",
          "height": 34
        }
      },
      "cell_type": "code",
      "source": [
        "# token_results: as defined above\n",
        "token_accuracy = token_correct_count / len(reviews)\n",
        "print(\"Rounded accuracy of the binary solution: %0.3f\"% token_accuracy)\n",
        "# print(token_results)\n",
        "# print(token_correctness)"
      ],
      "execution_count": 0,
      "outputs": [
        {
          "output_type": "stream",
          "text": [
            "Rounded accuracy of the binary solution: 0.677\n"
          ],
          "name": "stdout"
        }
      ]
    },
    {
      "metadata": {
        "id": "Twox0s_3eS0V",
        "colab_type": "text"
      },
      "cell_type": "markdown",
      "source": [
        "If the sentiment lexicon also has information about the **magnitude** of\n",
        "sentiment (e.g., *“excellent\"* would have higher magnitude than\n",
        "*“good\"*), we could take a more fine-grained approach by adding up all\n",
        "sentiment scores, and deciding the polarity of the movie review using\n",
        "the sign of the weighted score $S_{weighted}$.\n",
        "\n",
        "$$S_{weighted}(w_1w_2...w_n) = \\sum_{i = 1}^{n}SLex\\big[w_i\\big]$$\n",
        "\n",
        "\n",
        "Their lexicon also records two possible magnitudes of sentiment (*weak*\n",
        "and *strong*), so you can implement both the binary and the weighted\n",
        "solutions (please use a switch in your program). For the weighted\n",
        "solution, you can choose the weights intuitively *once* before running\n",
        "the experiment.\n",
        "\n",
        "#### (Q: 1.2) Now incorporate magnitude information and report the classification accuracy. Don't forget to use the threshold. (1 pt)"
      ]
    },
    {
      "metadata": {
        "id": "qG3hUDnPtkhS",
        "colab_type": "code",
        "colab": {}
      },
      "cell_type": "code",
      "source": [
        "weight_weak = 0.5\n",
        "weight_strong = 1.5\n",
        "magnitude_results = []\n",
        "magnitude_correctness = []\n",
        "magnitude_correct_count = 0\n",
        "threshold = 8\n",
        "for index, review in enumerate(reviews):\n",
        "  s_bin = 0\n",
        "  for sentence in review[\"content\"]:\n",
        "    for token, pos_tag in sentence:\n",
        "      if weighted_sent_lex.get(token.lower()) == 'strongsubj':\n",
        "        s_bin += weight_strong * sgn_slex(sent_lex.get(token.lower(), \"unknown\"))\n",
        "      else:\n",
        "        s_bin += weight_weak * sgn_slex(sent_lex.get(token.lower(), \"unknown\"))\n",
        "  if s_bin > threshold:\n",
        "    magnitude_results.append('POS')\n",
        "    if magnitude_results[-1] == review[\"sentiment\"]:\n",
        "      magnitude_correct_count += 1\n",
        "      magnitude_correctness.append('+')\n",
        "    else:\n",
        "      magnitude_correctness.append('-')\n",
        "  else:\n",
        "    magnitude_results.append('NEG')\n",
        "    if magnitude_results[-1] == review[\"sentiment\"]:\n",
        "      magnitude_correct_count += 1\n",
        "      magnitude_correctness.append('+')\n",
        "    else:\n",
        "      magnitude_correctness.append('-')"
      ],
      "execution_count": 0,
      "outputs": []
    },
    {
      "metadata": {
        "id": "9vVk7CvDpyka",
        "colab_type": "code",
        "outputId": "1d9fdd0b-e270-4911-eef4-4b92df39bc05",
        "colab": {
          "base_uri": "https://localhost:8080/",
          "height": 34
        }
      },
      "cell_type": "code",
      "source": [
        "# magnitude_results: as defined above\n",
        "magnitude_accuracy = magnitude_correct_count / len(reviews)\n",
        "print(\"Rounded accuracy of the weighted solution: %0.3f\"% magnitude_accuracy)\n",
        "# print(magnitude_results)\n",
        "# print(magnitude_correctness)"
      ],
      "execution_count": 0,
      "outputs": [
        {
          "output_type": "stream",
          "text": [
            "Rounded accuracy of the weighted solution: 0.693\n"
          ],
          "name": "stdout"
        }
      ]
    },
    {
      "metadata": {
        "id": "h9SHoGPfsAHV",
        "colab_type": "text"
      },
      "cell_type": "markdown",
      "source": [
        "#### Optional: make a barplot of the two results."
      ]
    },
    {
      "metadata": {
        "id": "8LgBcYcXsEk3",
        "colab_type": "code",
        "outputId": "6794da5d-de03-43ee-b3e4-5fe5662f5809",
        "colab": {
          "base_uri": "https://localhost:8080/",
          "height": 376
        }
      },
      "cell_type": "code",
      "source": [
        "results = {u'Binary':token_accuracy, u'Weighted': magnitude_accuracy}\n",
        "width = 1/5\n",
        "plt.bar(range(len(results)), results.values(), width)\n",
        "plt.xticks(range(len(results)), results.keys())\n",
        "plt.xlabel(\"Solution\")\n",
        "plt.ylabel(\"Accuracy\")\n",
        "plt.title(\"Barplot of comparison between accuracies of Binary and Weighted solutions\")\n",
        "plt.show()"
      ],
      "execution_count": 0,
      "outputs": [
        {
          "output_type": "display_data",
          "data": {
            "image/png": "[encoded data removed]",
            "text/plain": [
              "<matplotlib.figure.Figure at 0x7f094bf9e438>"
            ]
          },
          "metadata": {
            "tags": []
          }
        }
      ]
    },
    {
      "metadata": {
        "id": "6MFrz8Jink0D",
        "colab_type": "text"
      },
      "cell_type": "markdown",
      "source": [
        "Answering questions in statistically significant ways (1pt)\n",
        "-------------------------------------------------------------"
      ]
    },
    {
      "metadata": {
        "id": "kxkxrldT9Ymc",
        "colab_type": "text"
      },
      "cell_type": "markdown",
      "source": [
        "Does using the magnitude improve the results? Oftentimes, answering questions like this about the performance of\n",
        "different signals and/or algorithms by simply looking at the output\n",
        "numbers is not enough. When dealing with natural language or human\n",
        "ratings, it’s safe to assume that there are infinitely many possible\n",
        "instances that could be used for training and testing, of which the ones\n",
        "we actually train and test on are a tiny sample. Thus, it is possible\n",
        "that observed differences in the reported performance are really just\n",
        "noise. \n",
        "\n",
        "There exist statistical methods which can be used to check for\n",
        "consistency (*statistical significance*) in the results, and one of the\n",
        "simplest such tests is the **sign test**. \n",
        "\n",
        "The sign test is based on the binomial distribution. Count all cases when System 1 is better than System 2, when System 2 is better than System 1, and when they are the same. Call these numbers $Plus$, $Minus$ and $Null$ respectively. \n",
        "\n",
        "The sign test returns the probability that the null hypothesis is true. \n",
        "\n",
        "This probability is called the $p$-value and it can be calculated for the two-sided sign test using the following formula (we multiply by two because this is a two-sided sign test and tests for the significance of differences in either direction):\n",
        "\n",
        "$$2 \\, \\sum\\limits_{i=0}^{k} \\binom{N}{i} \\, q^i \\, (1-q)^{N-i}$$\n",
        "\n",
        "where $$N = 2 \\Big\\lceil \\frac{Null}{2}\\Big\\rceil + Plus + Minus$$ is the total\n",
        "number of cases, and\n",
        "$$k = \\Big\\lceil \\frac{Null}{2}\\Big\\rceil + \\min\\{Plus,Minus\\}$$ is the number of\n",
        "cases with the less common sign. \n",
        "\n",
        "In this experiment, $q = 0.5$. Here, we\n",
        "treat ties by adding half a point to either side, rounding up to the\n",
        "nearest integer if necessary. \n",
        "\n",
        "\n",
        "#### (Q 2.1): Implement the sign test. Is the difference between the two symbolic systems significant? What is the p-value? (1 pt)\n",
        "\n",
        "You should use the `comb` function from `scipy` and the `decimal` package for the stable adding of numbers in the final summation.\n",
        "\n",
        "You can quickly verify the correctness of\n",
        "your sign test code using a [free online\n",
        "tool](https://www.graphpad.com/quickcalcs/binomial1.cfm)."
      ]
    },
    {
      "metadata": {
        "id": "de5l4oPkE-BS",
        "colab_type": "code",
        "outputId": "2e025584-02af-40d2-81b7-81781dcc49fb",
        "colab": {
          "base_uri": "https://localhost:8080/",
          "height": 51
        }
      },
      "cell_type": "code",
      "source": [
        "def sign_test(results_1, results_2):\n",
        "  \"\"\"test for significance\n",
        "  results_1 is a list of classification results (+ for correct, - incorrect)\n",
        "  results_2 is a list of classification results (+ for correct, - incorrect)\n",
        "  \"\"\"\n",
        "  ties, plus, minus = 0, 0, 0\n",
        "  # \"-\" carries the error\n",
        "  for i in range(0, len(results_1)):\n",
        "    if results_1[i]==results_2[i]:\n",
        "      ties += 1\n",
        "    elif results_1[i]==\"-\": \n",
        "      plus += 1\n",
        "    elif results_2[i]==\"-\": \n",
        "      minus += 1\n",
        "  n = 2 * math.ceil(ties / 2) + plus + minus\n",
        "  k = math.ceil(ties / 2) + min(plus, minus)\n",
        "  summation = Decimal(0)\n",
        "  for i in range(0,k + 1):\n",
        "    summation += Decimal(comb(n, i, exact=True)) * Decimal(0.5)**Decimal(i) * Decimal(0.5)**Decimal(n-i)\n",
        "  # use two-tailed version of test\n",
        "  summation *= 2\n",
        "  return summation\n",
        "\n",
        "p_value = sign_test(token_correctness, magnitude_correctness)\n",
        "print(\"The difference between the two symbolic systems is\", \n",
        "        \"not significant.\" if p_value >= 0.05 else \"significant.\")\n",
        "print(\"p_value = %0.8f\"% p_value)"
      ],
      "execution_count": 0,
      "outputs": [
        {
          "output_type": "stream",
          "text": [
            "The difference between the two symbolic systems is not significant.\n",
            "p_value = 0.51669780\n"
          ],
          "name": "stdout"
        }
      ]
    },
    {
      "metadata": {
        "id": "uhU_tk-BOaXb",
        "colab_type": "text"
      },
      "cell_type": "markdown",
      "source": [
        "## Using the Sign test\n",
        "\n",
        "**From now on, report all differences between systems using the\n",
        "sign test.** You can think about a change that you apply to one system, as a\n",
        " new system.\n",
        "    \n",
        "You should report statistical test\n",
        "results in an appropriate form – if there are several different methods\n",
        "(i.e., systems) to compare, tests can only be applied to pairs of them\n",
        "at a time. This creates a triangular matrix of test results in the\n",
        "general case. When reporting these pair-wise differences, you should\n",
        "summarise trends to avoid redundancy.\n"
      ]
    },
    {
      "metadata": {
        "id": "LibV4nR89BXb",
        "colab_type": "text"
      },
      "cell_type": "markdown",
      "source": [
        "Naive Bayes (8pt + 1pt bonus)\n",
        "=========="
      ]
    },
    {
      "metadata": {
        "id": "fnF9adQnuwia",
        "colab_type": "text"
      },
      "cell_type": "markdown",
      "source": [
        "\n",
        "Your second task is to program a simple Machine Learning approach that operates\n",
        "on a simple Bag-of-Words (BoW) representation of the text data, as\n",
        "described in Pang et al. (2002). In this approach, the only features we\n",
        "will consider are the words in the text themselves, without bringing in\n",
        "external sources of information. The BoW model is a popular way of\n",
        "representing text information as vectors (or points in space), making it\n",
        "easy to apply classical Machine Learning algorithms on NLP tasks.\n",
        "However, the BoW representation is also very crude, since it discards\n",
        "all information related to word order and grammatical structure in the\n",
        "original text.\n",
        "\n",
        "## Writing your own classifier\n",
        "\n",
        "Write your own code to implement the Naive Bayes (NB) classifier. As\n",
        "a reminder, the Naive Bayes classifier works according to the following\n",
        "equation:\n",
        "$$\\hat{c} = \\operatorname*{arg\\,max}_{c \\in C} P(c|\\bar{f}) = \\operatorname*{arg\\,max}_{c \\in C} P(c)\\prod^n_{i=1} P(f_i|c)$$\n",
        "where $C = \\{ \\text{POS}, \\text{NEG} \\}$ is the set of possible classes,\n",
        "$\\hat{c} \\in C$ is the most probable class, and $\\bar{f}$ is the feature\n",
        "vector. Remember that we use the log of these probabilities when making\n",
        "a prediction:\n",
        "$$\\hat{c} = \\operatorname*{arg\\,max}_{c \\in C} \\Big\\{\\log P(c) + \\sum^n_{i=1} \\log P(f_i|c)\\Big\\}$$\n",
        "\n",
        "You can find more details about Naive Bayes in [Jurafsky &\n",
        "Martin](https://web.stanford.edu/~jurafsky/slp3/). You can also look at\n",
        "this helpful\n",
        "[pseudo-code](https://nlp.stanford.edu/IR-book/html/htmledition/naive-bayes-text-classification-1.html).\n",
        "\n",
        "*Note: this section and the next aim to put you a position to replicate\n",
        "    Pang et al., Naive Bayes results. However, the numerical results\n",
        "    will differ from theirs, as they used different data.*\n",
        "\n",
        "**You must write the Naive Bayes training and prediction code from\n",
        "scratch.** You will not be given credit for using off-the-shelf Machine\n",
        "Learning libraries.\n",
        "\n",
        "The data contains the text of the reviews, where each document consists\n",
        "of the sentences in the review, the sentiment of the review and an index\n",
        "(cv) that you will later use for cross-validation. You will find the\n",
        "text has already been tokenised and POS-tagged for you. Your algorithm\n",
        "should read in the text, **lowercase it**, and store the words and their\n",
        "frequencies in an appropriate data structure that allows for easy\n",
        "computation of the probabilities used in the Naive Bayes algorithm, and\n",
        "then make predictions for new instances."
      ]
    },
    {
      "metadata": {
        "id": "gsZRhaI3WvzC",
        "colab_type": "text"
      },
      "cell_type": "markdown",
      "source": [
        "#### (Q3.1) Train your classifier on (positive and negative) reviews with cv-value 000-899, and test it on the remaining reviews cv900–cv999.  Report results using simple classification accuracy as your evaluation metric. Your  features are the word vocabulary. The value of a feature is the count of that feature (word) in the document. (2pts)\n"
      ]
    },
    {
      "metadata": {
        "id": "XVc0hdgkdUCz",
        "colab_type": "code",
        "colab": {}
      },
      "cell_type": "code",
      "source": [
        "def find_prior(reviews, train_split):\n",
        "  pos_num = 0.0\n",
        "  neg_num = 0.0  \n",
        "  for review in reviews:\n",
        "    if review[\"cv\"] in train_split:\n",
        "      if review[\"sentiment\"] == \"POS\":\n",
        "        pos_num += 1      \n",
        "      else:\n",
        "        neg_num += 1\n",
        "  pos_prior = pos_num / (pos_num + neg_num)\n",
        "  neg_prior = neg_num / (pos_num + neg_num)\n",
        "  return pos_prior, neg_prior\n",
        "\n",
        "def bag_words(reviews, train_split):\n",
        "  bag = Counter()\n",
        "  pos_bag = Counter()\n",
        "  neg_bag = Counter()\n",
        "  for review in reviews:\n",
        "    if review[\"cv\"] in train_split:\n",
        "      if review[\"sentiment\"] == \"POS\":\n",
        "        for sentence in review[\"content\"]:\n",
        "          for token, pos_tag in sentence:\n",
        "            pos_bag[token.lower()] += 1\n",
        "            bag[token.lower()] += 1\n",
        "      else:\n",
        "        for sentence in review[\"content\"]:\n",
        "          for token, pos_tag in sentence:\n",
        "            neg_bag[token.lower()] += 1      \n",
        "            bag[token.lower()] += 1\n",
        "  return bag, pos_bag, neg_bag\n",
        "\n",
        "# Simple heuristics to deal with unseen words with frequency = 0.\n",
        "def safe_log(x, epsilon=1e-30):\n",
        "  if x == 0:\n",
        "    return np.log(epsilon)\n",
        "  else:\n",
        "    return np.log(x)\n",
        "\n",
        "def compute_likelihoods(reviews, bag, pos_bag, neg_bag):  \n",
        "  likelihoods = defaultdict(lambda: defaultdict(float))\n",
        "  word_sum_pos = word_sum_neg = 0.0\n",
        "  for word in set(bag.elements()):\n",
        "    word_sum_pos += pos_bag[word] \n",
        "    word_sum_neg += neg_bag[word]  \n",
        "  for word in set(bag.elements()):\n",
        "    likelihoods[word]['POS'] = float(pos_bag[word]) / float(word_sum_pos)\n",
        "    likelihoods[word]['NEG'] = float(neg_bag[word]) / float(word_sum_neg)\n",
        "  return likelihoods\n",
        "\n",
        "def train_NB(reviews, train_split):  \n",
        "  pos_prior, neg_prior = find_prior(reviews, train_split) \n",
        "  bag, pos_bag, neg_bag = bag_words(reviews, train_split)\n",
        "  likelihoods = compute_likelihoods(reviews, bag, pos_bag, neg_bag)\n",
        "  return bag, pos_prior, neg_prior, likelihoods\n",
        "\n",
        "def inference_NB(reviews, bag, pos_prior, neg_prior, likelihoods, valid_split):\n",
        "  results = defaultdict(lambda: defaultdict(str))\n",
        "  for review in reviews:\n",
        "    if review[\"cv\"] in valid_split:\n",
        "      pos_prob = neg_prob = 0.0\n",
        "      pos_prob += np.log(pos_prior)\n",
        "      neg_prob += np.log(neg_prior)\n",
        "      for sentence in review[\"content\"]:\n",
        "        for token, pos_tag in sentence:\n",
        "          if bag[token.lower()] == 0:\n",
        "            continue\n",
        "          pos_prob += safe_log(likelihoods[token.lower()]['POS'])\n",
        "          neg_prob += safe_log(likelihoods[token.lower()]['NEG'])\n",
        "      if pos_prob > neg_prob:\n",
        "        results[review[\"sentiment\"]][review[\"cv\"]] = \"POS\"\n",
        "      else:\n",
        "        results[review[\"sentiment\"]][review[\"cv\"]] = \"NEG\"        \n",
        "  return results\n",
        " \n",
        "def check_correctness(reviews, results, valid_split):    \n",
        "  correctness = []\n",
        "  for c in [\"POS\", \"NEG\"]:\n",
        "    for cv in valid_split:\n",
        "      if results[c][cv] == c:\n",
        "        correctness.append('+')\n",
        "      else:\n",
        "        correctness.append('-')        \n",
        "  return correctness\n",
        "\n",
        "def simple_accuracy(correctness):\n",
        "  correct_sum = 0.0\n",
        "  for prediction in correctness:\n",
        "    if prediction == '+':\n",
        "      correct_sum += 1    \n",
        "  return correct_sum / float(len(correctness))"
      ],
      "execution_count": 0,
      "outputs": []
    },
    {
      "metadata": {
        "id": "G7zaJYGFvIJ3",
        "colab_type": "code",
        "outputId": "aaeda212-3d2f-4f93-aea8-e967fe031289",
        "colab": {
          "base_uri": "https://localhost:8080/",
          "height": 34
        }
      },
      "cell_type": "code",
      "source": [
        "train_split = np.arange(0, 900, 1)\n",
        "valid_split = np.arange(900, 1000, 1)\n",
        "bag, pos_prior, neg_prior, likelihoods = train_NB(reviews, train_split)\n",
        "NB_results = inference_NB(reviews, bag, pos_prior, neg_prior, likelihoods, valid_split)\n",
        "NB_correctness = check_correctness(reviews, NB_results, valid_split)\n",
        "NB_accuracy = simple_accuracy(NB_correctness)\n",
        "print(\"Rounded Naive Bayes classifier without smoothing accuracy on test_data cv{:03d}-cv{:03d}: {:.03f}\".format(valid_split[0], valid_split[-1], NB_accuracy))"
      ],
      "execution_count": 0,
      "outputs": [
        {
          "output_type": "stream",
          "text": [
            "Rounded Naive Bayes classifier without smoothing accuracy on test_data cv900-cv999: 0.680\n"
          ],
          "name": "stdout"
        }
      ]
    },
    {
      "metadata": {
        "id": "0INK-PBoM6CB",
        "colab_type": "text"
      },
      "cell_type": "markdown",
      "source": [
        "#### (Bonus Questions) Would you consider accuracy to also be a good way to evaluate your classifier in a situation where 90% of your data instances are of positive movie reviews? (1pt)\n",
        "\n",
        "You can simulate this scenario by keeping the positive reviews\n",
        "data unchanged, but only using negative reviews cv000–cv089 for\n",
        "training, and cv900–cv909 for testing. Calculate the classification\n",
        "accuracy, and explain what changed."
      ]
    },
    {
      "metadata": {
        "id": "z91aoPWIXBWg",
        "colab_type": "code",
        "colab": {}
      },
      "cell_type": "code",
      "source": [
        "def find_prior_divided(reviews, pos_train_split, neg_train_split):\n",
        "  pos_num = 0.0\n",
        "  neg_num = 0.0  \n",
        "  for review in reviews:\n",
        "    if review[\"sentiment\"] == \"POS\":\n",
        "      if review[\"cv\"] in pos_train_split:      \n",
        "        pos_num += 1      \n",
        "    else:\n",
        "      if review[\"cv\"] in neg_train_split:\n",
        "        neg_num += 1\n",
        "  pos_prior = pos_num / (pos_num + neg_num)\n",
        "  neg_prior = neg_num / (pos_num + neg_num)\n",
        "  return pos_prior, neg_prior\n",
        "\n",
        "def bag_words_divided(reviews, pos_train_split, neg_train_split):\n",
        "  bag = Counter()\n",
        "  pos_bag = Counter()\n",
        "  neg_bag = Counter()\n",
        "  for review in reviews:\n",
        "    if review[\"sentiment\"] == \"POS\":\n",
        "      if review[\"cv\"] in pos_train_split:      \n",
        "        for sentence in review[\"content\"]:\n",
        "          for token, pos_tag in sentence:\n",
        "            pos_bag[token.lower()] += 1\n",
        "            bag[token.lower()] += 1\n",
        "    else:\n",
        "      if review[\"cv\"] in neg_train_split:      \n",
        "        for sentence in review[\"content\"]:\n",
        "          for token, pos_tag in sentence:\n",
        "            neg_bag[token.lower()] += 1      \n",
        "            bag[token.lower()] += 1\n",
        "  return bag, pos_bag, neg_bag\n",
        "\n",
        "def train_NB_divided(reviews, pos_train_split, neg_train_split):  \n",
        "  pos_prior, neg_prior = find_prior_divided(reviews, pos_train_split, neg_train_split) \n",
        "  bag, pos_bag, neg_bag = bag_words_divided(reviews, pos_train_split, neg_train_split)\n",
        "  likelihoods = compute_likelihoods(reviews, bag, pos_bag, neg_bag)\n",
        "  return bag, pos_prior, neg_prior, likelihoods\n",
        "  \n",
        "def inference_NB_divided(reviews, bag, pos_prior, neg_prior, likelihoods, pos_valid_split, neg_valid_split):\n",
        "  results = defaultdict(lambda: defaultdict(str))\n",
        "  for review in reviews:\n",
        "    if review[\"sentiment\"] == \"POS\":\n",
        "      if review[\"cv\"] in pos_valid_split:\n",
        "        pos_prob = neg_prob = 0.0\n",
        "        pos_prob += np.log(pos_prior)\n",
        "        neg_prob += np.log(neg_prior)\n",
        "        for sentence in review[\"content\"]:\n",
        "          for token, pos_tag in sentence:\n",
        "            if bag[token.lower()] == 0:\n",
        "              continue\n",
        "            pos_prob += safe_log(likelihoods[token.lower()]['POS'])\n",
        "            neg_prob += safe_log(likelihoods[token.lower()]['NEG'])\n",
        "        if pos_prob > neg_prob:\n",
        "          results[review[\"sentiment\"]][review[\"cv\"]] = \"POS\"\n",
        "        else:\n",
        "          results[review[\"sentiment\"]][review[\"cv\"]] = \"NEG\"  \n",
        "    else:\n",
        "      if review[\"cv\"] in neg_valid_split:\n",
        "        pos_prob = neg_prob = 0.0\n",
        "        pos_prob += np.log(pos_prior)\n",
        "        neg_prob += np.log(neg_prior)\n",
        "        for sentence in review[\"content\"]:\n",
        "          for token, pos_tag in sentence:\n",
        "            if bag[token.lower()] == 0:\n",
        "              continue\n",
        "            pos_prob += safe_log(likelihoods[token.lower()]['POS'])\n",
        "            neg_prob += safe_log(likelihoods[token.lower()]['NEG'])\n",
        "        if pos_prob > neg_prob:\n",
        "          results[review[\"sentiment\"]][review[\"cv\"]] = \"POS\"\n",
        "        else:\n",
        "          results[review[\"sentiment\"]][review[\"cv\"]] = \"NEG\"  \n",
        "  return results\n",
        "   \n",
        "def check_correctness_divided(reviews, results, pos_valid_split, neg_valid_split):    \n",
        "  correctness = []\n",
        "  for c in [\"POS\", \"NEG\"]:\n",
        "    if c == \"POS\":\n",
        "      for cv in pos_valid_split:\n",
        "        if results[c][cv] == c:\n",
        "          correctness.append('+')\n",
        "        else:\n",
        "          correctness.append('-')        \n",
        "    else:\n",
        "      for cv in neg_valid_split:\n",
        "        if results[c][cv] == c:\n",
        "          correctness.append('+')\n",
        "        else:\n",
        "          correctness.append('-')        \n",
        "  return correctness"
      ],
      "execution_count": 0,
      "outputs": []
    },
    {
      "metadata": {
        "id": "GWDkt5ZrrFGp",
        "colab_type": "code",
        "outputId": "d365e183-2bca-4d90-d6e0-57b13fe32a0d",
        "colab": {
          "base_uri": "https://localhost:8080/",
          "height": 34
        }
      },
      "cell_type": "code",
      "source": [
        "pos_train_split = np.arange(0, 900, 1)\n",
        "neg_train_split = np.arange(0, 90, 1)\n",
        "pos_valid_split = np.arange(900, 1000, 1)\n",
        "neg_valid_split = np.arange(900, 910, 1)\n",
        "bag_unbalanced, pos_prior_unbalanced, neg_prior_unbalanced, likelihoods_unbalanced = train_NB_divided(reviews, pos_train_split, neg_train_split)\n",
        "NB_results_unbalanced = inference_NB_divided(reviews, bag_unbalanced, pos_prior_unbalanced, neg_prior_unbalanced, likelihoods_unbalanced, pos_valid_split, neg_valid_split)\n",
        "NB_correctness_unbalanced = check_correctness_divided(reviews, NB_results_unbalanced, pos_valid_split, neg_valid_split)\n",
        "NB_accuracy_unbalanced = simple_accuracy(NB_correctness_unbalanced)\n",
        "print(\"Rounded Naive Bayes classifier with unbalanced data accuracy on pos_test_data cv{:03d}-cv{:03d} and neg_test_data cv{:03d}-cv{:03d}: {:.03f}\".format(pos_valid_split[0], pos_valid_split[-1], neg_valid_split[0], neg_valid_split[-1], NB_accuracy_unbalanced))"
      ],
      "execution_count": 0,
      "outputs": [
        {
          "output_type": "stream",
          "text": [
            "Rounded Naive Bayes classifier with unbalanced data accuracy on pos_test_data cv900-cv999 and neg_test_data cv900-cv909: 0.909\n"
          ],
          "name": "stdout"
        }
      ]
    },
    {
      "metadata": {
        "id": "FGZRTbtYdctf",
        "colab_type": "text"
      },
      "cell_type": "markdown",
      "source": [
        "As can be seen above, the resulting accuracy has virtually increased compared to the balanced case, yet however this accuracy is not trustworthy. With unbalanced training set, first the prior belief of the occurences of class \"POS\" and class \"NEG\" changes and leans towards the class \"POS\" in this case. Furthermore, given the fact that there are only 10 documents used for training on class \"NEG\", the frequencies of the words from the vocabulary are less trustworthy and, therefore, the likelihoods of the words with respect to class \"NEG\" also change.\n",
        "\n",
        "These changes finally lead to an overwhelming inference on the class \"POS\" with a ratio ~10:1, which corresponds to the ratio of the \"POS\" and \"NEG\" classes in the training set. In the inference results, since the test set contains 100 \"POS\" but only 10 \"NEG\" documents, the accuracy has achieved ~90% even though all the inferences are \"POS\".\n",
        "\n",
        "To conclude, when the training/testing sets between different classes are unbalanced, then it is inappropriate to use accuracy as the metric."
      ]
    },
    {
      "metadata": {
        "id": "6wJzcHX3WUDm",
        "colab_type": "text"
      },
      "cell_type": "markdown",
      "source": [
        "## Smoothing\n",
        "\n",
        "The presence of words in the test dataset that\n",
        "haven’t been seen during training can cause probabilities in the Naive\n",
        "Bayes classifier to be $0$, thus making that particular test instance\n",
        "undecidable. The standard way to mitigate this effect (as well as to\n",
        "give more clout to rare words) is to use smoothing, in which the\n",
        "probability fraction\n",
        "$$\\frac{\\text{count}(w_i, c)}{\\sum\\limits_{w\\in V} \\text{count}(w, c)}$$ for a word\n",
        "$w_i$ becomes\n",
        "$$\\frac{\\text{count}(w_i, c) + \\text{smoothing}(w_i)}{\\sum\\limits_{w\\in V} \\text{count}(w, c) + \\sum\\limits_{w \\in V} \\text{smoothing}(w)}$$\n",
        "\n",
        "\n",
        "\n"
      ]
    },
    {
      "metadata": {
        "id": "PBNIcbwUWphC",
        "colab_type": "text"
      },
      "cell_type": "markdown",
      "source": [
        "#### (Q3.2) Implement Laplace feature smoothing (1pt)\n",
        "($smoothing(\\cdot) = \\kappa$, constant for all words) in your Naive\n",
        "Bayes classifier’s code, and report the impact on performance. \n",
        "Use $\\kappa = 1$."
      ]
    },
    {
      "metadata": {
        "id": "QZVCisDVjTRH",
        "colab_type": "code",
        "colab": {}
      },
      "cell_type": "code",
      "source": [
        "def compute_likelihoods_smoothed(reviews, bag, pos_bag, neg_bag, kappa):  \n",
        "  likelihoods = defaultdict(lambda: defaultdict(float))\n",
        "  word_sum_pos = word_sum_neg = 0.0\n",
        "  for word in set(bag.elements()):\n",
        "    word_sum_pos += pos_bag[word] + kappa\n",
        "    word_sum_neg += neg_bag[word] + kappa\n",
        "  for word in set(bag.elements()):\n",
        "    likelihoods[word]['POS'] = float(pos_bag[word] + kappa) / float(word_sum_pos)\n",
        "    likelihoods[word]['NEG'] = float(neg_bag[word] + kappa) / float(word_sum_neg)   \n",
        "  return likelihoods\n",
        "\n",
        "def train_NB_smoothed(reviews, train_split, kappa=1):  \n",
        "  pos_prior, neg_prior = find_prior(reviews, train_split) \n",
        "  bag, pos_bag, neg_bag = bag_words(reviews, train_split)\n",
        "  likelihoods = compute_likelihoods_smoothed(reviews, bag, pos_bag, neg_bag, kappa)\n",
        "  return bag, pos_prior, neg_prior, likelihoods\n",
        "\n",
        "def inference_NB_smoothed(reviews, bag, pos_prior, neg_prior, likelihoods, valid_split):\n",
        "  results = defaultdict(lambda: defaultdict(str))\n",
        "  for review in reviews:\n",
        "    if review[\"cv\"] in valid_split:\n",
        "      pos_prob = neg_prob = 0.0\n",
        "      pos_prob += np.log(pos_prior)\n",
        "      neg_prob += np.log(neg_prior)\n",
        "      for sentence in review[\"content\"]:\n",
        "        for token, pos_tag in sentence:\n",
        "          if bag[token.lower()] == 0:\n",
        "            continue\n",
        "          pos_prob += np.log(likelihoods[token.lower()]['POS'])\n",
        "          neg_prob += np.log(likelihoods[token.lower()]['NEG'])\n",
        "      if pos_prob > neg_prob:\n",
        "        results[review[\"sentiment\"]][review[\"cv\"]] = \"POS\"\n",
        "      else:\n",
        "        results[review[\"sentiment\"]][review[\"cv\"]] = \"NEG\"        \n",
        "  return results"
      ],
      "execution_count": 0,
      "outputs": []
    },
    {
      "metadata": {
        "id": "g03yflCc9kpW",
        "colab_type": "code",
        "outputId": "d9ebee70-e8ab-4c20-aae9-5655ba0f6274",
        "colab": {
          "base_uri": "https://localhost:8080/",
          "height": 34
        }
      },
      "cell_type": "code",
      "source": [
        "train_split = np.arange(0, 900, 1)\n",
        "valid_split = np.arange(900, 1000, 1)\n",
        "kappa = 1\n",
        "bag_smoothed, pos_prior_smoothed, neg_prior_smoothed, likelihoods_smoothed = train_NB_smoothed(reviews, train_split, kappa)\n",
        "NB_results_smoothed = inference_NB_smoothed(reviews, bag_smoothed, pos_prior_smoothed, neg_prior_smoothed, likelihoods_smoothed, valid_split)\n",
        "NB_correctness_smoothed = check_correctness(reviews, NB_results_smoothed, valid_split)\n",
        "NB_accuracy_smoothed = simple_accuracy(NB_correctness_smoothed)\n",
        "print(\"Rounded Naive Bayes classifier with smoothing accuracy on test_data cv{:03d}-cv{:03d}: {:.03f}\".format(train_split[0], valid_split[-1], NB_accuracy_smoothed))"
      ],
      "execution_count": 0,
      "outputs": [
        {
          "output_type": "stream",
          "text": [
            "Rounded Naive Bayes classifier with smoothing accuracy on test_data cv000-cv999: 0.825\n"
          ],
          "name": "stdout"
        }
      ]
    },
    {
      "metadata": {
        "id": "-conSBddWWyN",
        "colab_type": "text"
      },
      "cell_type": "markdown",
      "source": [
        "#### (Q3.3) Is the difference between non smoothed (Q3.1) and smoothed (Q3.2) statistically significant? (0.5pt)"
      ]
    },
    {
      "metadata": {
        "id": "CCvSNGlHMUPz",
        "colab_type": "code",
        "outputId": "f8a4e08f-0be4-42c4-8cb6-4b267d954f0e",
        "colab": {
          "base_uri": "https://localhost:8080/",
          "height": 51
        }
      },
      "cell_type": "code",
      "source": [
        "p_value_q3 = sign_test(NB_correctness, NB_correctness_smoothed)\n",
        "print(\"The difference between non-smoothed (Q3.1) and smoothed (Q3.2) systems is\", \n",
        "        \"not significant.\" if p_value_q3 >= 0.05 else \"significant.\")\n",
        "print(\"p_value = %0.8f\" % p_value_q3)"
      ],
      "execution_count": 0,
      "outputs": [
        {
          "output_type": "stream",
          "text": [
            "The difference between non-smoothed (Q3.1) and smoothed (Q3.2) systems is significant.\n",
            "p_value = 0.04800147\n"
          ],
          "name": "stdout"
        }
      ]
    },
    {
      "metadata": {
        "id": "ZiGcgwba87D5",
        "colab_type": "text"
      },
      "cell_type": "markdown",
      "source": [
        "## Cross-validation\n",
        "\n",
        "A serious danger in using Machine Learning on small datasets, with many\n",
        "iterations of slightly different versions of the algorithms, is that we\n",
        "end up with Type III errors, also called the “testing hypotheses\n",
        "suggested by the data” errors. This type of error occurs when we make\n",
        "repeated improvements to our classifiers by playing with features and\n",
        "their processing, but we don’t get a fresh, never-before seen test\n",
        "dataset every time. Thus, we risk developing a classifier that’s better\n",
        "and better on our data, but worse and worse at generalizing to new,\n",
        "never-before seen data.\n",
        "\n",
        "A simple method to guard against Type III errors is to use\n",
        "cross-validation. In N-fold cross-validation, we divide the data into N\n",
        "distinct chunks / folds. Then, we repeat the experiment N times, each\n",
        "time holding out one of the chunks for testing, training our classifier\n",
        "on the remaining N - 1 data chunks, and reporting performance on the\n",
        "held-out chunk. We can use different strategies for dividing the data:\n",
        "\n",
        "-   Consecutive splitting:\n",
        "  - cv000–cv099 = Split 1\n",
        "  - cv100–cv199 = Split 2\n",
        "  - etc.\n",
        "  \n",
        "-   Round-robin splitting (mod 10):\n",
        "  - cv000, cv010, cv020, … = Split 1\n",
        "  - cv001, cv011, cv021, … = Split 2\n",
        "  - etc.\n",
        "\n",
        "-   Random sampling/splitting\n",
        "  - Not used here (but you may choose to split this way in a non-educational situation)\n",
        "\n",
        "#### (Q3.4) Write the code to implement 10-fold cross-validation using round-robin splitting for your Naive Bayes classifier from Q3.2 and compute the 10 accuracies. Report the final performance, which is the average of the performances per fold. If all splits perform equally well, this is a good sign. (1pt)\n",
        "\n",
        "\n",
        "\n",
        "\n"
      ]
    },
    {
      "metadata": {
        "id": "3KeCGPa7Nuzx",
        "colab_type": "code",
        "colab": {}
      },
      "cell_type": "code",
      "source": [
        "def round_robin(reviews, folds=10):\n",
        "  cvs = set()\n",
        "  sentiments = set()\n",
        "  for review in reviews:\n",
        "    cvs.add(review[\"cv\"])\n",
        "    sentiments.add(review[\"sentiment\"])\n",
        "  cv_inds = len(cvs)\n",
        "  splits_x = np.arange(0, cv_inds, folds)\n",
        "  splits_x = splits_x[np.newaxis, :]\n",
        "  splits_y = np.arange(folds)\n",
        "  splits_y = splits_y[:, np.newaxis]\n",
        "  splits = splits_x + splits_y\n",
        "  return splits\n",
        "\n",
        "def NB_classifier_smoothed(reviews, train_split, valid_split, **kwargs):  \n",
        "  try:\n",
        "    kappa = kwargs['kappa']    \n",
        "  except KeyError:\n",
        "    print('Check input: \\'kappa\\'')\n",
        "  bag_smoothed, pos_prior_smoothed, neg_prior_smoothed, likelihoods_smoothed = train_NB_smoothed(reviews, train_split, kappa)\n",
        "  NB_results_smoothed = inference_NB_smoothed(reviews, bag_smoothed, pos_prior_smoothed, neg_prior_smoothed, likelihoods_smoothed, valid_split)\n",
        "  NB_correctness_smoothed = check_correctness(reviews, NB_results_smoothed, valid_split)\n",
        "  NB_accuracy_smoothed = simple_accuracy(NB_correctness_smoothed)\n",
        "  return NB_results_smoothed, NB_correctness_smoothed, NB_accuracy_smoothed\n",
        "\n",
        "def cv_rr(reviews, classifier_func, **kwargs):\n",
        "  round_robin_splits = round_robin(reviews)\n",
        "  round_robin_results = []\n",
        "  overall_correctness = []\n",
        "  for i in np.arange(round_robin_splits.shape[0]):\n",
        "    train_split = np.empty(shape=(0, 0))\n",
        "    valid_split = round_robin_splits[i]\n",
        "    for j in np.arange(round_robin_splits.shape[0]):\n",
        "      if j == i:\n",
        "        continue\n",
        "      else:\n",
        "        train_split = np.concatenate((train_split, round_robin_splits[j]), axis=None)  \n",
        "    results, correctness, accuracy = classifier_func(reviews, train_split, valid_split, **kwargs)\n",
        "    round_robin_results.append(accuracy)     \n",
        "    overall_correctness.extend(correctness)\n",
        "  return round_robin_results, overall_correctness"
      ],
      "execution_count": 0,
      "outputs": []
    },
    {
      "metadata": {
        "id": "Ovi1xdR50LSg",
        "colab_type": "code",
        "outputId": "b8ad75c2-d172-4101-cf85-15a1a78ccdaf",
        "colab": {
          "base_uri": "https://localhost:8080/",
          "height": 51
        }
      },
      "cell_type": "code",
      "source": [
        "round_robin_NB_smoothed_results, round_robin_NB_smoothed_correctness = cv_rr(reviews, NB_classifier_smoothed, kappa=1)\n",
        "print(\"Accuracy per fold:\", str(round_robin_NB_smoothed_results))\n",
        "print('Rounded average accuracy of 10-fold cross-validation with round-robin splitting for smoothed Naive Bayes classifier: {:.03f}'.format(np.mean(round_robin_NB_smoothed_results)))"
      ],
      "execution_count": 0,
      "outputs": [
        {
          "output_type": "stream",
          "text": [
            "Accuracy per fold: [0.79, 0.835, 0.805, 0.825, 0.78, 0.845, 0.83, 0.775, 0.83, 0.84]\n",
            "Rounded average accuracy of 10-fold cross-validation with round-robin splitting for smoothed Naive Bayes classifier: 0.815\n"
          ],
          "name": "stdout"
        }
      ]
    },
    {
      "metadata": {
        "id": "otdlsDXBNyOa",
        "colab_type": "text"
      },
      "cell_type": "markdown",
      "source": [
        "#### (Q3.5) Write code to calculate and report variance, in addition to the final performance. (1pt)\n",
        "\n",
        "**Please report all future results using 10-fold cross-validation now\n",
        "(unless told to use the held-out test set).**"
      ]
    },
    {
      "metadata": {
        "id": "ZoBQm1KuNzNR",
        "colab_type": "code",
        "outputId": "c999a38d-ecac-4295-b2fd-23fd4b04c4dd",
        "colab": {
          "base_uri": "https://localhost:8080/",
          "height": 34
        }
      },
      "cell_type": "code",
      "source": [
        "print('Variance of 10-fold cross-validation with round-robin splitting for smoothed NB classifier: {:.08f}'.format(np.var(round_robin_NB_smoothed_results)))"
      ],
      "execution_count": 0,
      "outputs": [
        {
          "output_type": "stream",
          "text": [
            "Variance of 10-fold cross-validation with round-robin splitting for smoothed NB classifier: 0.00060225\n"
          ],
          "name": "stdout"
        }
      ]
    },
    {
      "metadata": {
        "id": "s6A2zX9_BRKm",
        "colab_type": "text"
      },
      "cell_type": "markdown",
      "source": [
        "## Features, overfitting, and the curse of dimensionality\n",
        "\n",
        "In the Bag-of-Words model, ideally we would like each distinct word in\n",
        "the text to be mapped to its own dimension in the output vector\n",
        "representation. However, real world text is messy, and we need to decide\n",
        "on what we consider to be a word. For example, is “`word`\" different\n",
        "from “`Word`\", from “`word`”, or from “`words`\"? Too strict a\n",
        "definition, and the number of features explodes, while our algorithm\n",
        "fails to learn anything generalisable. Too lax, and we risk destroying\n",
        "our learning signal. In the following section, you will learn about\n",
        "confronting the feature sparsity and the overfitting problems as they\n",
        "occur in NLP classification tasks."
      ]
    },
    {
      "metadata": {
        "id": "EKK8FNt8VtcZ",
        "colab_type": "text"
      },
      "cell_type": "markdown",
      "source": [
        "#### (Q3.6): A touch of linguistics (1pt)\n",
        "\n",
        "Taking a step further, you can use stemming to\n",
        "hash different inflections of a word to the same feature in the BoW\n",
        "vector space. How does the performance of your classifier change when\n",
        "you use stemming on your training and test datasets? Please use the [Porter stemming\n",
        "    algorithm](http://www.nltk.org/howto/stem.html) from NLTK.\n",
        " Also, you should do cross validation and concatenate the predictions from all folds to compute the significance."
      ]
    },
    {
      "metadata": {
        "id": "NxtCul1IrBi_",
        "colab_type": "code",
        "colab": {}
      },
      "cell_type": "code",
      "source": [
        "def collect_stems(reviews):\n",
        "  stemmer = PorterStemmer()\n",
        "  stems = defaultdict(str)\n",
        "  for review in reviews:\n",
        "    for sentence in review[\"content\"]:\n",
        "      for token, pos_tag in sentence:\n",
        "        stems[token] = stemmer.stem(token)\n",
        "  return stems\n",
        "\n",
        "def bag_words_stem(reviews, train_split, stems):\n",
        "  bag = Counter()\n",
        "  pos_bag = Counter()\n",
        "  neg_bag = Counter()\n",
        "  for review in reviews:\n",
        "    if review[\"cv\"] in train_split:\n",
        "      if review[\"sentiment\"] == \"POS\":\n",
        "        for sentence in review[\"content\"]:\n",
        "          for token, pos_tag in sentence:\n",
        "            pos_bag[stems[token]] += 1\n",
        "            bag[stems[token]] += 1\n",
        "      else:\n",
        "        for sentence in review[\"content\"]:\n",
        "          for token, pos_tag in sentence:\n",
        "            neg_bag[stems[token]] += 1      \n",
        "            bag[stems[token]] += 1\n",
        "  return bag, pos_bag, neg_bag\n",
        "\n",
        "def train_NB_stem(reviews, train_split, stems, kappa=1):\n",
        "  pos_prior, neg_prior = find_prior(reviews, train_split)  \n",
        "  bag, pos_bag, neg_bag = bag_words_stem(reviews, train_split, stems)\n",
        "  likelihoods = compute_likelihoods_smoothed(reviews, bag, pos_bag, neg_bag, kappa)\n",
        "  return bag, pos_prior, neg_prior, likelihoods\n",
        "\n",
        "def inference_NB_stem(reviews, bag, pos_prior, neg_prior, likelihoods, valid_split, stems):\n",
        "  results = defaultdict(lambda: defaultdict(str))\n",
        "  for review in reviews:\n",
        "    if review[\"cv\"] in valid_split:\n",
        "      pos_prob = neg_prob = 0.0\n",
        "      pos_prob += np.log(pos_prior)\n",
        "      neg_prob += np.log(neg_prior)\n",
        "      for sentence in review[\"content\"]:\n",
        "        for token, pos_tag in sentence:\n",
        "          if bag[stems[token]] == 0:\n",
        "            continue\n",
        "          pos_prob += np.log(likelihoods[stems[token]]['POS'])\n",
        "          neg_prob += np.log(likelihoods[stems[token]]['NEG'])\n",
        "      if pos_prob > neg_prob:\n",
        "        results[review[\"sentiment\"]][review[\"cv\"]] = \"POS\"\n",
        "      else:\n",
        "        results[review[\"sentiment\"]][review[\"cv\"]] = \"NEG\"\n",
        "  return results\n",
        "\n",
        "def NB_classifier_stem(reviews, train_split, valid_split, **kwargs):  \n",
        "  try:\n",
        "    kappa = kwargs['kappa']\n",
        "    stems = kwargs['stems']\n",
        "  except KeyError:\n",
        "    print('Check inputs: \\'kappa\\', \\'stems\\'')\n",
        "  bag_stem, pos_prior_stem, neg_prior_stem, likelihoods_stem = train_NB_stem(reviews, train_split, stems, kappa)\n",
        "  NB_results_stem = inference_NB_stem(reviews, bag_stem, pos_prior_stem, neg_prior_stem, likelihoods_stem, valid_split, stems)\n",
        "  NB_correctness_stem = check_correctness(reviews, NB_results_stem, valid_split)\n",
        "  NB_accuracy_stem = simple_accuracy(NB_correctness_stem)\n",
        "  return NB_results_stem, NB_correctness_stem, NB_accuracy_stem"
      ],
      "execution_count": 0,
      "outputs": []
    },
    {
      "metadata": {
        "id": "gEc6cSxSGLaW",
        "colab_type": "code",
        "outputId": "af13f050-ee87-42cd-c9f8-b4217b7caf7d",
        "colab": {
          "base_uri": "https://localhost:8080/",
          "height": 51
        }
      },
      "cell_type": "code",
      "source": [
        "stems = collect_stems(reviews)\n",
        "round_robin_NB_stem_results, round_robin_NB_stem_correctness = cv_rr(reviews, NB_classifier_stem, kappa=1, stems=stems)\n",
        "print(\"Accuracy per fold:\", str(round_robin_NB_stem_results))\n",
        "print('Rounded average accuracy of 10-fold cross-validation with round-robin splitting for stemmed Naive Bayes classifier: {:.03f}'.format(np.mean(round_robin_NB_stem_results)))"
      ],
      "execution_count": 0,
      "outputs": [
        {
          "output_type": "stream",
          "text": [
            "Accuracy per fold: [0.785, 0.84, 0.805, 0.835, 0.77, 0.845, 0.82, 0.775, 0.825, 0.83]\n",
            "Rounded average accuracy of 10-fold cross-validation with round-robin splitting for stemmed Naive Bayes classifier: 0.813\n"
          ],
          "name": "stdout"
        }
      ]
    },
    {
      "metadata": {
        "id": "6SrJ1BeLXTnk",
        "colab_type": "text"
      },
      "cell_type": "markdown",
      "source": [
        "#### (Q3.7): Is the difference between NB with smoothing and NB with smoothing+stemming significant? (0.5pt)\n"
      ]
    },
    {
      "metadata": {
        "id": "gYqKBOiIrInT",
        "colab_type": "code",
        "outputId": "61721f8e-c530-47e4-d86e-5181ea1eca7f",
        "colab": {
          "base_uri": "https://localhost:8080/",
          "height": 51
        }
      },
      "cell_type": "code",
      "source": [
        "p_value_stem = sign_test(round_robin_NB_smoothed_correctness, round_robin_NB_stem_correctness)\n",
        "print(\"The difference between NB with smoothing and NB with smoothing + stemming is\", \n",
        "        \"not significant.\" if p_value_stem >= 0.05 else \"significant.\")\n",
        "print(\"p_value = %0.8f\" % p_value_stem)"
      ],
      "execution_count": 0,
      "outputs": [
        {
          "output_type": "stream",
          "text": [
            "The difference between NB with smoothing and NB with smoothing + stemming is not significant.\n",
            "p_value = 0.92875078\n"
          ],
          "name": "stdout"
        }
      ]
    },
    {
      "metadata": {
        "id": "JkDHVq_1XUVP",
        "colab_type": "text"
      },
      "cell_type": "markdown",
      "source": [
        "#### Q3.8: What happens to the number of features (i.e., the size of the vocabulary) when using stemming as opposed to (Q3.2)? (0.5pt)\n",
        "Give actual numbers. You can use the held-out training set to determine these."
      ]
    },
    {
      "metadata": {
        "id": "MA3vee5-rJyy",
        "colab_type": "code",
        "outputId": "10152fe6-4268-4e15-fe3b-57a9edd7c11e",
        "colab": {
          "base_uri": "https://localhost:8080/",
          "height": 51
        }
      },
      "cell_type": "code",
      "source": [
        "train_split = np.arange(0, 900, 1)\n",
        "bag_smoothed, _, _ = bag_words(reviews, train_split)\n",
        "bag_stem, _, _ = bag_words_stem(reviews, train_split, stems)\n",
        "print('Number of features without stemming: {}'.format(len(bag_smoothed)))\n",
        "print('Number of features with stemming: {}'.format(len(bag_stem)))"
      ],
      "execution_count": 0,
      "outputs": [
        {
          "output_type": "stream",
          "text": [
            "Number of features without stemming: 45348\n",
            "Number of features with stemming: 32561\n"
          ],
          "name": "stdout"
        }
      ]
    },
    {
      "metadata": {
        "id": "SoazfxbNV5Lq",
        "colab_type": "text"
      },
      "cell_type": "markdown",
      "source": [
        "#### Q3.9: Putting some word order back in (0.5+0.5pt=1pt)\n",
        "\n",
        "A simple way of retaining some of the word\n",
        "order information when using bag-of-words representations is to add **n-grams** features. \n",
        "Retrain your classifier from (Q3.4) using **unigrams+bigrams** and\n",
        "**unigrams+bigrams+trigrams** as features, and report accuracy and statistical significances (in comparison to the experiment at (Q3.4) for all 10 folds, and between the new systems).\n",
        "\n",
        "\n",
        "\n"
      ]
    },
    {
      "metadata": {
        "id": "eYuKMTOpq9jz",
        "colab_type": "code",
        "colab": {}
      },
      "cell_type": "code",
      "source": [
        "def bag_words_bigram(reviews, train_split):\n",
        "  bag = Counter()\n",
        "  pos_bag = Counter()\n",
        "  neg_bag = Counter()\n",
        "  for review in reviews:\n",
        "    if review[\"cv\"] in train_split:\n",
        "      if review[\"sentiment\"] == \"POS\":\n",
        "        for sentence in review[\"content\"]:\n",
        "          for index, (token, pos_tag) in enumerate(sentence):\n",
        "            pos_bag[token.lower()] += 1\n",
        "            bag[token.lower()] += 1\n",
        "            if index < len(sentence) - 1:\n",
        "              pos_bag[token.lower()+' '+sentence[index+1][0].lower()] += 1\n",
        "              bag[token.lower()+' '+sentence[index+1][0].lower()] += 1\n",
        "      else:\n",
        "        for sentence in review[\"content\"]:\n",
        "          for index, (token, pos_tag) in enumerate(sentence):\n",
        "            neg_bag[token.lower()] += 1      \n",
        "            bag[token.lower()] += 1\n",
        "            if index < len(sentence) - 1:\n",
        "              neg_bag[token.lower()+' '+sentence[index+1][0].lower()] += 1\n",
        "              bag[token.lower()+' '+sentence[index+1][0].lower()] += 1\n",
        "  return bag, pos_bag, neg_bag\n",
        "\n",
        "def train_NB_bigram(reviews, train_split, kappa=1):  \n",
        "  pos_prior, neg_prior = find_prior(reviews, train_split) \n",
        "  bag, pos_bag, neg_bag = bag_words_bigram(reviews, train_split)\n",
        "  likelihoods = compute_likelihoods_smoothed(reviews, bag, pos_bag, neg_bag, kappa)\n",
        "  return bag, pos_prior, neg_prior, likelihoods\n",
        "\n",
        "def inference_NB_bigram(reviews, bag, pos_prior, neg_prior, likelihoods, valid_split):\n",
        "  results = defaultdict(lambda: defaultdict(str))\n",
        "  for review in reviews:\n",
        "    if review[\"cv\"] in valid_split:\n",
        "      pos_prob = neg_prob = 0.0\n",
        "      pos_prob += np.log(pos_prior)\n",
        "      neg_prob += np.log(neg_prior)\n",
        "      for sentence in review[\"content\"]:\n",
        "        for index, (token, pos_tag) in enumerate(sentence):\n",
        "          if bag[token.lower()] == 0:\n",
        "            continue\n",
        "          pos_prob += np.log(likelihoods[token.lower()]['POS'])\n",
        "          neg_prob += np.log(likelihoods[token.lower()]['NEG'])\n",
        "          if index < len(sentence) - 1 and bag[token.lower()+' '+sentence[index+1][0].lower()] != 0:\n",
        "            pos_prob += np.log(likelihoods[token.lower()+' '+sentence[index+1][0].lower()]['POS'])\n",
        "            neg_prob += np.log(likelihoods[token.lower()+' '+sentence[index+1][0].lower()]['NEG'])\n",
        "      if pos_prob > neg_prob:\n",
        "        results[review[\"sentiment\"]][review[\"cv\"]] = \"POS\"\n",
        "      else:\n",
        "        results[review[\"sentiment\"]][review[\"cv\"]] = \"NEG\"        \n",
        "  return results\n",
        "\n",
        "def NB_classifier_bigram(reviews, train_split, valid_split, **kwargs):  \n",
        "  try:\n",
        "    kappa = kwargs['kappa']    \n",
        "  except KeyError:\n",
        "    print('Check input: \\'kappa\\'')\n",
        "  bag_bigram, pos_prior_bigram, neg_prior_bigram, likelihoods_bigram = train_NB_bigram(reviews, train_split, kappa)\n",
        "  NB_results_bigram = inference_NB_bigram(reviews, bag_bigram, pos_prior_bigram, neg_prior_bigram, likelihoods_bigram, valid_split)\n",
        "  NB_correctness_bigram = check_correctness(reviews, NB_results_bigram, valid_split)\n",
        "  NB_accuracy_bigram = simple_accuracy(NB_correctness_bigram)\n",
        "  return NB_results_bigram, NB_correctness_bigram, NB_accuracy_bigram"
      ],
      "execution_count": 0,
      "outputs": []
    },
    {
      "metadata": {
        "id": "Rh2PHcw1PUph",
        "colab_type": "code",
        "colab": {}
      },
      "cell_type": "code",
      "source": [
        "def bag_words_trigram(reviews, train_split):\n",
        "  bag = Counter()\n",
        "  pos_bag = Counter()\n",
        "  neg_bag = Counter()\n",
        "  for review in reviews:\n",
        "    if review[\"cv\"] in train_split:\n",
        "      if review[\"sentiment\"] == \"POS\":\n",
        "        for sentence in review[\"content\"]:\n",
        "          for index, (token, pos_tag) in enumerate(sentence):\n",
        "            pos_bag[token.lower()] += 1\n",
        "            bag[token.lower()] += 1\n",
        "            if index < len(sentence) - 1:\n",
        "              pos_bag[token.lower()+' '+sentence[index+1][0].lower()] += 1\n",
        "              bag[token.lower()+' '+sentence[index+1][0].lower()] += 1\n",
        "            if index < len(sentence) - 2:\n",
        "              pos_bag[token.lower()+' '+sentence[index+1][0].lower()+' '+sentence[index+2][0].lower()] += 1\n",
        "              bag[token.lower()+' '+sentence[index+1][0].lower()+' '+sentence[index+2][0].lower()] += 1\n",
        "      else:\n",
        "        for sentence in review[\"content\"]:\n",
        "          for index, (token, pos_tag) in enumerate(sentence):\n",
        "            neg_bag[token.lower()] += 1      \n",
        "            bag[token.lower()] += 1\n",
        "            if index < len(sentence) - 1:\n",
        "              neg_bag[token.lower()+' '+sentence[index+1][0].lower()] += 1\n",
        "              bag[token.lower()+' '+sentence[index+1][0].lower()] += 1\n",
        "            if index < len(sentence) - 2:\n",
        "              neg_bag[token.lower()+' '+sentence[index+1][0].lower()+' '+sentence[index+2][0].lower()] += 1\n",
        "              bag[token.lower()+' '+sentence[index+1][0].lower()+' '+sentence[index+2][0].lower()] += 1\n",
        "  return bag, pos_bag, neg_bag\n",
        "\n",
        "def train_NB_trigram(reviews, train_split, kappa=1):  \n",
        "  pos_prior, neg_prior = find_prior(reviews, train_split) \n",
        "  bag, pos_bag, neg_bag = bag_words_trigram(reviews, train_split)\n",
        "  likelihoods = compute_likelihoods_smoothed(reviews, bag, pos_bag, neg_bag, kappa)\n",
        "  return bag, pos_prior, neg_prior, likelihoods\n",
        "\n",
        "def inference_NB_trigram(reviews, bag, pos_prior, neg_prior, likelihoods, valid_split):\n",
        "  results = defaultdict(lambda: defaultdict(str))\n",
        "  for review in reviews:\n",
        "    if review[\"cv\"] in valid_split:\n",
        "      pos_prob = neg_prob = 0.0\n",
        "      pos_prob += np.log(pos_prior)\n",
        "      neg_prob += np.log(neg_prior)\n",
        "      for sentence in review[\"content\"]:\n",
        "        for index, (token, pos_tag) in enumerate(sentence):\n",
        "          if bag[token.lower()] == 0:\n",
        "            continue\n",
        "          pos_prob += np.log(likelihoods[token.lower()]['POS'])\n",
        "          neg_prob += np.log(likelihoods[token.lower()]['NEG'])\n",
        "          if index < len(sentence) - 1 and bag[token.lower()+' '+sentence[index+1][0].lower()] != 0:\n",
        "            pos_prob += np.log(likelihoods[token.lower()+' '+sentence[index+1][0].lower()]['POS'])\n",
        "            neg_prob += np.log(likelihoods[token.lower()+' '+sentence[index+1][0].lower()]['NEG'])\n",
        "          if index < len(sentence) - 2 and bag[token.lower()+' '+sentence[index+1][0].lower()+' '+sentence[index+2][0].lower()] != 0:\n",
        "            pos_prob += np.log(likelihoods[token.lower()+' '+sentence[index+1][0].lower()+' '+sentence[index+2][0].lower()]['POS'])\n",
        "            neg_prob += np.log(likelihoods[token.lower()+' '+sentence[index+1][0].lower()+' '+sentence[index+2][0].lower()]['NEG'])\n",
        "      if pos_prob > neg_prob:\n",
        "        results[review[\"sentiment\"]][review[\"cv\"]] = \"POS\"\n",
        "      else:\n",
        "        results[review[\"sentiment\"]][review[\"cv\"]] = \"NEG\"        \n",
        "  return results\n",
        "\n",
        "def NB_classifier_trigram(reviews, train_split, valid_split, **kwargs):  \n",
        "  try:\n",
        "    kappa = kwargs['kappa']    \n",
        "  except KeyError:\n",
        "    print('Check input: \\'kappa\\'')\n",
        "  bag_trigram, pos_prior_trigram, neg_prior_trigram, likelihoods_trigram = train_NB_trigram(reviews, train_split, kappa)\n",
        "  NB_results_trigram = inference_NB_trigram(reviews, bag_trigram, pos_prior_trigram, neg_prior_trigram, likelihoods_trigram, valid_split)\n",
        "  NB_correctness_trigram = check_correctness(reviews, NB_results_trigram, valid_split)\n",
        "  NB_accuracy_trigram = simple_accuracy(NB_correctness_trigram)\n",
        "  return NB_results_trigram, NB_correctness_trigram, NB_accuracy_trigram"
      ],
      "execution_count": 0,
      "outputs": []
    },
    {
      "metadata": {
        "id": "S0ieragh7Y3B",
        "colab_type": "code",
        "outputId": "a3db0dcb-1087-47fc-f6bf-87573abbde95",
        "colab": {
          "base_uri": "https://localhost:8080/",
          "height": 51
        }
      },
      "cell_type": "code",
      "source": [
        "round_robin_NB_bigram_results, round_robin_NB_bigram_correctness = cv_rr(reviews, NB_classifier_bigram, kappa=1)\n",
        "print(\"Accuracy per fold:\", str(round_robin_NB_bigram_results))\n",
        "print('Rounded average accuracy of 10-fold cross-validation with round-robin splitting for bigram Naive Bayes classifier: {:.03f}'.format(np.mean(round_robin_NB_bigram_results)))"
      ],
      "execution_count": 0,
      "outputs": [
        {
          "output_type": "stream",
          "text": [
            "Accuracy per fold: [0.785, 0.84, 0.84, 0.87, 0.8, 0.865, 0.845, 0.845, 0.845, 0.835]\n",
            "Rounded average accuracy of 10-fold cross-validation with round-robin splitting for bigram Naive Bayes classifier: 0.837\n"
          ],
          "name": "stdout"
        }
      ]
    },
    {
      "metadata": {
        "id": "3d8HqdzuZR-g",
        "colab_type": "code",
        "outputId": "c90dc49b-7989-4db0-eaed-09fd9f577032",
        "colab": {
          "base_uri": "https://localhost:8080/",
          "height": 51
        }
      },
      "cell_type": "code",
      "source": [
        "round_robin_NB_trigram_results, round_robin_NB_trigram_correctness = cv_rr(reviews, NB_classifier_trigram, kappa=1)\n",
        "print(\"Accuracy per fold:\", str(round_robin_NB_trigram_results))\n",
        "print('Rounded average accuracy of 10-fold cross-validation with round-robin splitting for trigram Naive Bayes classifier: {:.03f}'.format(np.mean(round_robin_NB_trigram_results)))"
      ],
      "execution_count": 0,
      "outputs": [
        {
          "output_type": "stream",
          "text": [
            "Accuracy per fold: [0.805, 0.85, 0.835, 0.865, 0.825, 0.85, 0.86, 0.85, 0.855, 0.805]\n",
            "Rounded average accuracy of 10-fold cross-validation with round-robin splitting for trigram Naive Bayes classifier: 0.840\n"
          ],
          "name": "stdout"
        }
      ]
    },
    {
      "metadata": {
        "id": "itpbDxqL0vHg",
        "colab_type": "code",
        "outputId": "78773478-aa4f-4831-f73a-4c8dcbb4e1e3",
        "colab": {
          "base_uri": "https://localhost:8080/",
          "height": 119
        }
      },
      "cell_type": "code",
      "source": [
        "p_value_bigram = sign_test(round_robin_NB_smoothed_correctness, round_robin_NB_bigram_correctness)\n",
        "print(\"The difference between NB with unigram + bigram and NB with smoothing is\", \n",
        "        \"not significant.\" if p_value_bigram >= 0.05 else \"significant.\")\n",
        "print(\"p_value = %0.8f\" % p_value_bigram)\n",
        "p_value_trigram = sign_test(round_robin_NB_smoothed_correctness, round_robin_NB_trigram_correctness)\n",
        "print(\"The difference between NB with unigram + bigram + trigram and NB with smoothing is\", \n",
        "        \"not significant.\" if p_value_trigram >= 0.05 else \"significant.\")\n",
        "print(\"p_value = %0.8f\" % p_value_trigram)\n",
        "p_value_new = sign_test(round_robin_NB_bigram_correctness, round_robin_NB_trigram_correctness)\n",
        "print(\"The difference between NB with unigram + bigram + trigram and NB with unigram + bigram is\", \n",
        "        \"not significant.\" if p_value_new >= 0.05 else \"significant.\")\n",
        "print(\"p_value = %0.8f\" % p_value_new)"
      ],
      "execution_count": 0,
      "outputs": [
        {
          "output_type": "stream",
          "text": [
            "The difference between NB with unigram + bigram and NB with smoothing is not significant.\n",
            "p_value = 0.34777737\n",
            "The difference between NB with unigram + bigram + trigram and NB with smoothing is not significant.\n",
            "p_value = 0.28324817\n",
            "The difference between NB with unigram + bigram + trigram and NB with unigram + bigram is not significant.\n",
            "p_value = 0.91098294\n"
          ],
          "name": "stdout"
        }
      ]
    },
    {
      "metadata": {
        "id": "dVrGGArkrWoL",
        "colab_type": "text"
      },
      "cell_type": "markdown",
      "source": [
        "\n",
        "#### Q3.10: How many features does the BoW model have to take into account now? (0.5pt)\n",
        "How does this number compare (e.g., linear, square, cubed, exponential) to the number of features at (Q3.8)? \n",
        "\n",
        "Use the held-out training set once again for this.\n"
      ]
    },
    {
      "metadata": {
        "id": "_z8sAJeUrdtM",
        "colab_type": "code",
        "outputId": "d85d9f76-1306-4d1f-bc44-65f6b91425ce",
        "colab": {
          "base_uri": "https://localhost:8080/",
          "height": 85
        }
      },
      "cell_type": "code",
      "source": [
        "train_split = np.arange(0, 900, 1)\n",
        "bag_smoothed, _, _ = bag_words(reviews, train_split)\n",
        "bag_stem, _, _ = bag_words_stem(reviews, train_split, stems)\n",
        "bag_bigram, _, _ = bag_words_bigram(reviews, train_split)\n",
        "bag_trigram, _, _ = bag_words_trigram(reviews, train_split)\n",
        "print('Number of features without stemming: {}'.format(len(bag_smoothed)))\n",
        "print('Number of features with stemming: {}'.format(len(bag_stem)))\n",
        "print('Number of features with unigram + bigram: {}, which is around {} times more compared to the number of features at (Q3.8).'.format(len(bag_bigram), int(len(bag_bigram)/len(bag_stem))))\n",
        "print('Number of features with unigram + bigram + trigram: {}, which is around {} times more compared to the number of features at (Q3.8).'.format(len(bag_trigram), int(len(bag_trigram)/len(bag_stem))))"
      ],
      "execution_count": 0,
      "outputs": [
        {
          "output_type": "stream",
          "text": [
            "Number of features without stemming: 45348\n",
            "Number of features with stemming: 32561\n",
            "Number of features with unigram + bigram: 465262, which is around 14 times more compared to the number of features at (Q3.8).\n",
            "Number of features with unigram + bigram + trigram: 1346107, which is around 41 times more compared to the number of features at (Q3.8).\n"
          ],
          "name": "stdout"
        }
      ]
    },
    {
      "metadata": {
        "id": "CHWKDL3YV6vh",
        "colab_type": "text"
      },
      "cell_type": "markdown",
      "source": [
        "# Support Vector Machines (4pts)\n"
      ]
    },
    {
      "metadata": {
        "id": "hJSYhcVaoJGt",
        "colab_type": "text"
      },
      "cell_type": "markdown",
      "source": [
        "Though simple to understand, implement, and debug, one\n",
        "major problem with the Naive Bayes classifier is that its performance\n",
        "deteriorates (becomes skewed) when it is being used with features which\n",
        "are not independent (i.e., are correlated). Another popular classifier\n",
        "that doesn’t scale as well to big data, and is not as simple to debug as\n",
        "Naive Bayes, but that doesn’t assume feature independence is the Support\n",
        "Vector Machine (SVM) classifier.\n",
        "\n",
        "You can find more details about SVMs in Chapter 7 of Bishop: Pattern Recognition and Machine Learning.\n",
        "Other sources for learning SVM:\n",
        "* http://web.mit.edu/zoya/www/SVM.pdf\n",
        "* http://www.cs.columbia.edu/~kathy/cs4701/documents/jason_svm_tutorial.pdf\n",
        "* https://pythonprogramming.net/support-vector-machine-intro-machine-learning-tutorial/\n",
        "\n",
        "\n",
        "\n",
        "\n",
        "\n",
        "\n",
        "\n",
        "Use the scikit-learn implementation of \n",
        "[SVM.](http://scikit-learn.org/stable/modules/svm.html) with the default parameters.\n",
        "\n"
      ]
    },
    {
      "metadata": {
        "id": "0LnzNtQBV8gr",
        "colab_type": "text"
      },
      "cell_type": "markdown",
      "source": [
        "#### (Q4.1): Train SVM and compare to Naive Bayes (2pt)\n",
        "\n",
        "Train an SVM classifier (sklearn.svm.LinearSVC) using your features. Compare the\n",
        "classification performance of the SVM classifier to that of the Naive\n",
        "Bayes classifier from (Q3.4) and report the numbers.\n",
        "Do cross validation and concatenate the predictions from all folds to compute the significance.  Are the results significantly better?\n",
        "\n"
      ]
    },
    {
      "metadata": {
        "id": "JBscui8Mvoz0",
        "colab_type": "code",
        "colab": {}
      },
      "cell_type": "code",
      "source": [
        "def vectorize_bow_stem(reviews, bag, train_split, stems, vectorizer):\n",
        "  train_labels = np.empty([train_split.shape[0] * 2], dtype=np.int)\n",
        "  ind_review = 0\n",
        "  bag_reviews = []\n",
        "  for review in reviews:\n",
        "    if review[\"cv\"] in train_split:      \n",
        "      bag_review = Counter()\n",
        "      for sentence in review[\"content\"]:\n",
        "        for token, pos_tag in sentence:\n",
        "          bag_review[stems[token]] += 1\n",
        "      bag_reviews.append(bag_review)\n",
        "      if review[\"sentiment\"] == \"POS\":                        \n",
        "        train_labels[ind_review] = 1\n",
        "      else:\n",
        "        train_labels[ind_review] = 0\n",
        "      ind_review += 1\n",
        "  train_vectors = vectorizer.transform(bag_reviews)\n",
        "  return train_vectors, train_labels\n",
        "\n",
        "def train_SVM_stem(reviews, train_split, stems):      \n",
        "  bag, pos_bag, neg_bag = bag_words_stem(reviews, train_split, stems)\n",
        "  vectorizer = DictVectorizer()\n",
        "  vocabulary = vectorizer.fit_transform(bag)\n",
        "  train_vectors, train_labels = vectorize_bow_stem(reviews, bag, train_split, stems, vectorizer)\n",
        "  classifier = svm.LinearSVC()\n",
        "  classifier.fit(train_vectors, train_labels)\n",
        "  return bag, classifier, vectorizer\n",
        "\n",
        "def inference_SVM_stem(reviews, bag, classifier, valid_split, stems, vectorizer):\n",
        "  results = defaultdict(lambda: defaultdict(str))    \n",
        "  for review in reviews:\n",
        "    if review[\"cv\"] in valid_split:            \n",
        "      bag_review = Counter()      \n",
        "      for sentence in review[\"content\"]:\n",
        "        for token, pos_tag in sentence:\n",
        "          if bag[stems[token]] == 0:\n",
        "            continue\n",
        "          bag_review[stems[token]] += 1\n",
        "      pred_vector = vectorizer.transform(bag_review)     \n",
        "      pred_label = classifier.predict(pred_vector)      \n",
        "      if pred_label == 1:\n",
        "        results[review[\"sentiment\"]][review[\"cv\"]] = \"POS\"\n",
        "      else:\n",
        "        results[review[\"sentiment\"]][review[\"cv\"]] = \"NEG\"                  \n",
        "  return results\n",
        "\n",
        "def SVM_classifier_stem(reviews, train_split, valid_split, **kwargs):\n",
        "  try:    \n",
        "    stems = kwargs['stems']\n",
        "  except KeyError:\n",
        "    print('Check input: \\'stems\\'')\n",
        "  bag, classifier, vectorizer = train_SVM_stem(reviews, train_split, stems)\n",
        "  SVM_results_stem = inference_SVM_stem(reviews, bag, classifier, valid_split, stems, vectorizer)\n",
        "  SVM_correctness_stem = check_correctness(reviews, SVM_results_stem, valid_split)\n",
        "  SVM_accuracy_stem = simple_accuracy(SVM_correctness_stem)\n",
        "  return SVM_results_stem, SVM_correctness_stem, SVM_accuracy_stem"
      ],
      "execution_count": 0,
      "outputs": []
    },
    {
      "metadata": {
        "id": "mJP9QlvB5z2Z",
        "colab_type": "code",
        "outputId": "524abbc2-6a35-49cf-b514-6cb73589663a",
        "colab": {
          "base_uri": "https://localhost:8080/",
          "height": 85
        }
      },
      "cell_type": "code",
      "source": [
        "stems = collect_stems(reviews)\n",
        "round_robin_SVM_stem_results, round_robin_SVM_stem_correctness = cv_rr(reviews, SVM_classifier_stem, stems=stems)\n",
        "print(\"Accuracy per fold:\", str(round_robin_SVM_stem_results))\n",
        "print('Rounded average accuracy of 10-fold cross-validation with round-robin splitting for stemmed SVM classifier: {:.03f}'.format(np.mean(round_robin_SVM_stem_results)))\n",
        "p_value_SVM_stem = sign_test(round_robin_NB_smoothed_correctness, round_robin_SVM_stem_correctness)\n",
        "print(\"The difference between stemmed SVM classifier and the Naive Bayes classifier with smoothing is\", \n",
        "        \"not significant.\" if p_value_SVM_stem >= 0.05 else \"significant.\")\n",
        "print(\"p_value = %0.8f\" % p_value_SVM_stem)"
      ],
      "execution_count": 0,
      "outputs": [
        {
          "output_type": "stream",
          "text": [
            "Accuracy per fold: [0.81, 0.795, 0.795, 0.85, 0.855, 0.82, 0.86, 0.855, 0.885, 0.845]\n",
            "Rounded average accuracy of 10-fold cross-validation with round-robin splitting for stemmed SVM classifier: 0.837\n",
            "The difference between stemmed SVM classifier and the Naive Bayes classifier with smoothing is not significant.\n",
            "p_value = 0.34777737\n"
          ],
          "name": "stdout"
        }
      ]
    },
    {
      "metadata": {
        "id": "ifXVWcK0V9qY",
        "colab_type": "text"
      },
      "cell_type": "markdown",
      "source": [
        "### More linguistics\n",
        "\n",
        "Now add in part-of-speech features. You will find the\n",
        "movie review dataset has already been POS-tagged for you. Try to\n",
        "replicate what Pang et al. were doing:\n",
        "\n"
      ]
    },
    {
      "metadata": {
        "id": "xA3I82o4oWGu",
        "colab_type": "text"
      },
      "cell_type": "markdown",
      "source": [
        "####(Q4.2) Replace your features with word+POS features, and report performance with the SVM. Does this help? Do cross validation and concatenate the predictions from all folds to compute the significance. Are the results significant? Why?  (1pt)\n"
      ]
    },
    {
      "metadata": {
        "id": "NOvjYe-t2Br6",
        "colab_type": "code",
        "colab": {}
      },
      "cell_type": "code",
      "source": [
        "def transform_word_pos(token, pos_tag):\n",
        "  return \" \".join(\"%s/%s\" % (token.lower(), pos_tag))\n",
        "\n",
        "def bag_pos(reviews, train_split):\n",
        "  bag = Counter()\n",
        "  pos_bag = Counter()\n",
        "  neg_bag = Counter()\n",
        "  for review in reviews:\n",
        "    if review[\"cv\"] in train_split:\n",
        "      if review[\"sentiment\"] == \"POS\":\n",
        "        for sentence in review[\"content\"]:\n",
        "          for token, pos_tag in sentence:\n",
        "            pos_bag[transform_word_pos(token, pos_tag)] += 1\n",
        "            bag[transform_word_pos(token, pos_tag)] += 1\n",
        "      else:\n",
        "        for sentence in review[\"content\"]:\n",
        "          for token, pos_tag in sentence:\n",
        "            neg_bag[transform_word_pos(token, pos_tag)] += 1      \n",
        "            bag[transform_word_pos(token, pos_tag)] += 1\n",
        "  return bag, pos_bag, neg_bag\n",
        "\n",
        "def vectorize_pos(reviews, bag, train_split, vectorizer):\n",
        "  train_labels = np.empty([train_split.shape[0] * 2], dtype=np.int)\n",
        "  ind_review = 0\n",
        "  bag_reviews = []\n",
        "  for review in reviews:\n",
        "    if review[\"cv\"] in train_split:      \n",
        "      bag_review = Counter()\n",
        "      for sentence in review[\"content\"]:\n",
        "        for token, pos_tag in sentence:\n",
        "          bag_review[transform_word_pos(token, pos_tag)] += 1\n",
        "      bag_reviews.append(bag_review)\n",
        "      if review[\"sentiment\"] == \"POS\":                        \n",
        "        train_labels[ind_review] = 1\n",
        "      else:\n",
        "        train_labels[ind_review] = 0\n",
        "      ind_review += 1\n",
        "  train_vectors = vectorizer.transform(bag_reviews)\n",
        "  return train_vectors, train_labels\n",
        "\n",
        "def train_SVM_pos(reviews, train_split):      \n",
        "  bag, pos_bag, neg_bag = bag_pos(reviews, train_split)\n",
        "  vectorizer = DictVectorizer()\n",
        "  vocabulary = vectorizer.fit_transform(bag)\n",
        "  train_vectors, train_labels = vectorize_pos(reviews, bag, train_split, vectorizer)\n",
        "  classifier = svm.LinearSVC()\n",
        "  classifier.fit(train_vectors, train_labels)\n",
        "  return bag, classifier, vectorizer\n",
        "\n",
        "def inference_SVM_pos(reviews, bag, classifier, valid_split, vectorizer):\n",
        "  results = defaultdict(lambda: defaultdict(str))    \n",
        "  for review in reviews:\n",
        "    if review[\"cv\"] in valid_split:            \n",
        "      bag_review = Counter()      \n",
        "      for sentence in review[\"content\"]:\n",
        "        for token, pos_tag in sentence:\n",
        "          if bag[transform_word_pos(token, pos_tag)] == 0:\n",
        "            continue\n",
        "          bag_review[transform_word_pos(token, pos_tag)] += 1\n",
        "      pred_vector = vectorizer.transform(bag_review)\n",
        "      pred_label = classifier.predict(pred_vector)      \n",
        "      if pred_label == 1:\n",
        "        results[review[\"sentiment\"]][review[\"cv\"]] = \"POS\"\n",
        "      else:\n",
        "        results[review[\"sentiment\"]][review[\"cv\"]] = \"NEG\"                  \n",
        "  return results\n",
        "\n",
        "def SVM_classifier_pos(reviews, train_split, valid_split, **kwargs):  \n",
        "  bag, classifier, vectorizer = train_SVM_pos(reviews, train_split)\n",
        "  SVM_results_pos = inference_SVM_pos(reviews, bag, classifier, valid_split, vectorizer)\n",
        "  SVM_correctness_pos = check_correctness(reviews, SVM_results_pos, valid_split)\n",
        "  SVM_accuracy_pos = simple_accuracy(SVM_correctness_pos)\n",
        "  return SVM_results_pos, SVM_correctness_pos, SVM_accuracy_pos"
      ],
      "execution_count": 0,
      "outputs": []
    },
    {
      "metadata": {
        "id": "1VojjXhxcfKU",
        "colab_type": "code",
        "outputId": "2a550caf-b84b-422c-e741-ada13174701b",
        "colab": {
          "base_uri": "https://localhost:8080/",
          "height": 85
        }
      },
      "cell_type": "code",
      "source": [
        "round_robin_SVM_pos_results, round_robin_SVM_pos_correctness = cv_rr(reviews, SVM_classifier_pos)\n",
        "print(\"Accuracy per fold:\", str(round_robin_SVM_pos_results))\n",
        "print('Rounded average accuracy of 10-fold cross-validation with round-robin splitting for SVM classifier with POS features: {:.03f}'.format(np.mean(round_robin_SVM_pos_results)))\n",
        "p_value_pos = sign_test(round_robin_NB_smoothed_correctness, round_robin_SVM_pos_correctness)\n",
        "print(\"The difference between SVM classifier with POS features and the Naive Bayes classifier with smoothing is\", \n",
        "        \"not significant.\" if p_value_pos >= 0.05 else \"significant.\")\n",
        "print(\"p_value = %0.8f\" % p_value_pos)"
      ],
      "execution_count": 0,
      "outputs": [
        {
          "output_type": "stream",
          "text": [
            "Accuracy per fold: [0.82, 0.795, 0.825, 0.84, 0.84, 0.845, 0.855, 0.855, 0.865, 0.84]\n",
            "Rounded average accuracy of 10-fold cross-validation with round-robin splitting for SVM classifier with POS features: 0.838\n",
            "The difference between SVM classifier with POS features and the Naive Bayes classifier with smoothing is not significant.\n",
            "p_value = 0.32530107\n"
          ],
          "name": "stdout"
        }
      ]
    },
    {
      "metadata": {
        "id": "Su-3w87eMW0w",
        "colab_type": "text"
      },
      "cell_type": "markdown",
      "source": [
        "#### (Q4.3) Discard all closed-class words from your data (keep only nouns (N*), verbs (V*), adjectives (J*) and adverbs (RB*)), and report performance. Does this help? Do cross validation and concatenate the predictions from all folds to compute the significance. Are the results significantly better than when we don't discard the closed-class words? Why? (1pt)"
      ]
    },
    {
      "metadata": {
        "id": "CCUPlPozCYUX",
        "colab_type": "code",
        "colab": {}
      },
      "cell_type": "code",
      "source": [
        "def bag_pos_part(reviews, train_split, pos_tags):\n",
        "  bag = Counter()\n",
        "  pos_bag = Counter()\n",
        "  neg_bag = Counter()\n",
        "  for review in reviews:\n",
        "    if review[\"cv\"] in train_split:\n",
        "      if review[\"sentiment\"] == \"POS\":\n",
        "        for sentence in review[\"content\"]:\n",
        "          for token, pos_tag in sentence:\n",
        "            if pos_tag in pos_tags:\n",
        "              pos_bag[transform_word_pos(token, pos_tag)] += 1\n",
        "              bag[transform_word_pos(token, pos_tag)] += 1\n",
        "      else:\n",
        "        for sentence in review[\"content\"]:\n",
        "          for token, pos_tag in sentence:\n",
        "            if pos_tag in pos_tags:\n",
        "              neg_bag[transform_word_pos(token, pos_tag)] += 1      \n",
        "              bag[transform_word_pos(token, pos_tag)] += 1\n",
        "  return bag, pos_bag, neg_bag\n",
        "\n",
        "def vectorize_pos_part(reviews, bag, train_split, vectorizer, pos_tags):\n",
        "  train_labels = np.empty([train_split.shape[0] * 2], dtype=np.int)\n",
        "  ind_review = 0\n",
        "  bag_reviews = []\n",
        "  for review in reviews:\n",
        "    if review[\"cv\"] in train_split:      \n",
        "      bag_review = Counter()\n",
        "      for sentence in review[\"content\"]:\n",
        "        for token, pos_tag in sentence:\n",
        "          if pos_tag in pos_tags:\n",
        "            bag_review[transform_word_pos(token, pos_tag)] += 1\n",
        "      bag_reviews.append(bag_review)\n",
        "      if review[\"sentiment\"] == \"POS\":                        \n",
        "        train_labels[ind_review] = 1\n",
        "      else:\n",
        "        train_labels[ind_review] = 0\n",
        "      ind_review += 1\n",
        "  train_vectors = vectorizer.transform(bag_reviews)\n",
        "  return train_vectors, train_labels\n",
        "\n",
        "def train_SVM_pos_part(reviews, train_split, pos_tags):      \n",
        "  bag, pos_bag, neg_bag = bag_pos_part(reviews, train_split, pos_tags)\n",
        "  vectorizer = DictVectorizer()\n",
        "  vocabulary = vectorizer.fit_transform(bag)\n",
        "  train_vectors, train_labels = vectorize_pos_part(reviews, bag, train_split, vectorizer, pos_tags)\n",
        "  classifier = svm.LinearSVC()\n",
        "  classifier.fit(train_vectors, train_labels)\n",
        "  return bag, classifier, vectorizer\n",
        "\n",
        "def inference_SVM_pos_part(reviews, bag, classifier, valid_split, vectorizer, pos_tags):\n",
        "  results = defaultdict(lambda: defaultdict(str))    \n",
        "  for review in reviews:\n",
        "    if review[\"cv\"] in valid_split:            \n",
        "      bag_review = Counter()      \n",
        "      for sentence in review[\"content\"]:\n",
        "        for token, pos_tag in sentence:\n",
        "          if pos_tag in pos_tags:\n",
        "            if bag[transform_word_pos(token, pos_tag)] == 0:\n",
        "              continue\n",
        "            bag_review[transform_word_pos(token, pos_tag)] += 1\n",
        "      pred_vector = vectorizer.transform(bag_review)\n",
        "      pred_label = classifier.predict(pred_vector)      \n",
        "      if pred_label == 1:\n",
        "        results[review[\"sentiment\"]][review[\"cv\"]] = \"POS\"\n",
        "      else:\n",
        "        results[review[\"sentiment\"]][review[\"cv\"]] = \"NEG\"                  \n",
        "  return results\n",
        "\n",
        "def SVM_classifier_pos_part(reviews, train_split, valid_split, **kwargs):  \n",
        "  pos_tags = ('JJ', 'JJR', 'JJS', 'NN', 'NNS', 'NNP', 'NNPS', 'RB', 'RBR', 'RBS', 'VB', 'VBD', 'VBG', 'VBN', 'VBP', 'VBZ', 'WRB')\n",
        "  bag, classifier, vectorizer = train_SVM_pos_part(reviews, train_split, pos_tags)\n",
        "  SVM_results_pos_part = inference_SVM_pos_part(reviews, bag, classifier, valid_split, vectorizer, pos_tags)\n",
        "  SVM_correctness_pos_part = check_correctness(reviews, SVM_results_pos_part, valid_split)\n",
        "  SVM_accuracy_pos_part = simple_accuracy(SVM_correctness_pos_part)\n",
        "  return SVM_results_pos_part, SVM_correctness_pos_part, SVM_accuracy_pos_part"
      ],
      "execution_count": 0,
      "outputs": []
    },
    {
      "metadata": {
        "id": "fN1_VMqLpQgu",
        "colab_type": "code",
        "outputId": "abeba358-4872-4d5c-e46d-7e10f2529eb4",
        "colab": {
          "base_uri": "https://localhost:8080/",
          "height": 85
        }
      },
      "cell_type": "code",
      "source": [
        "round_robin_SVM_pos_part_results, round_robin_SVM_pos_part_correctness = cv_rr(reviews, SVM_classifier_pos_part)\n",
        "print(\"Accuracy per fold:\", str(round_robin_SVM_pos_part_results))\n",
        "print('Rounded average accuracy of 10-fold cross-validation with round-robin splitting for SVM classifier without closed-class words: {:.03f}'.format(np.mean(round_robin_SVM_pos_part_results)))\n",
        "p_value_pos_part = sign_test(round_robin_NB_smoothed_correctness, round_robin_SVM_pos_part_correctness)\n",
        "print(\"The difference between SVM classifier without closed-class words and the Naive Bayes classifier with smoothing is\", \n",
        "        \"not significant.\" if p_value_pos_part >= 0.05 else \"significant.\")\n",
        "print(\"p_value = %0.8f\" % p_value_pos_part)"
      ],
      "execution_count": 0,
      "outputs": [
        {
          "output_type": "stream",
          "text": [
            "Accuracy per fold: [0.82, 0.83, 0.84, 0.86, 0.845, 0.835, 0.88, 0.86, 0.865, 0.82]\n",
            "Rounded average accuracy of 10-fold cross-validation with round-robin splitting for SVM classifier without closed-class words: 0.846\n",
            "The difference between SVM classifier without closed-class words and the Naive Bayes classifier with smoothing is not significant.\n",
            "p_value = 0.18706189\n"
          ],
          "name": "stdout"
        }
      ]
    },
    {
      "metadata": {
        "id": "nfwqOciAl2No",
        "colab_type": "text"
      },
      "cell_type": "markdown",
      "source": [
        "# (Q8) Discussion (max. 500 words). (5pts)\n",
        "\n",
        "> Based on your experiments, what are the effective features and techniques in sentiment analysis? What information do different features encode?\n",
        "Why is this important? What are the limitations of these features and techniques?\n",
        " \n"
      ]
    },
    {
      "metadata": {
        "id": "ZYuse5WLmekZ",
        "colab_type": "text"
      },
      "cell_type": "markdown",
      "source": [
        "In this practical, both symbolic and Machine Learning approaches with several techniques and features are developed and to perform sentiment analysis on movie reviews.\n",
        "\n",
        "The symbolic systems of using sentiment lexicons with and without magnitude weights give an accuracy of 0.677 and 0.693 respectively, where the difference is not significant. In these two systems, only information on the number of words from the sentiment lexicons included in the reviews are exploited, so the implementation of these systems is simple and the program execution is fast. However, the limitation of the symbolic approach is that it does not exploit any linguistics from the review contents and, thus, is weak at distinguishing grammars like negation or double negation.\n",
        "\n",
        "As for the Machine Learning approach, first, the two versions of NB classifier are compared (i.e. unsmoothed and smoothed). In a word, the performance of the unsmoothed NB classifier is significantly poorer than the smoothed one (0.680 and 0.825 respectively), even if the former is implemented with some simple heuristics (i.e. replacing log(0) with a large negative number). The limitation of the unsmoothed NB classifier is that it cannot handle data sparsity, which is common under this scenario.\n",
        "\n",
        "In order to avoid overfitting, on the basis of NB classifier with smoothing, 10-fold cross-validation is used, which gives an overall accuracy of 0.815. As a hypothesized improvement on the performance, the original word features are stemmed to reduce the dimension of the features. However, the result turns out that using the Porter stemming algorithm does not improve the overall classification accuracy (i.e. 0.813). This does not necessarily mean that stemming is an ineffective technique, but might just be the limitation of the specific stemming algorithm. Besides, the effect of adopting bigram and trigram features are experimented, which both give higher (although not significant) accuracies. More specifically, the system with unigram + bigram features gives an overall accuracy of 0.837, and the system with unigram + bigram + trigram features gives an overall accuracy of 0.840. When using higher-gram features, the dependencies between the words are encoded, hence, the linguistics within the review contents are exploited. The major limitation of higher-gram features is that they lead to an \"exponential\" increase in the total number of features, which requires more computational effort.\n",
        "\n",
        "The linear SVM classifier is implemented using the stemmed unigram features with and without the POS information, where the respective accuracies are 0.838 and 0.846. According to the sign-test results, the increased accuracies of the two SVM classifiers are not significantly different from that of the NB classifier with unigram features. Compared to the NB classifier, the correlations between the unigram features in the reviews, together with the linguistics when using POS-tags, are encoded, which leads to a \"better\" accuracy. However, the limitation of the linear SVM classifier is that it assumes the two classes of review sentiments are linearly separable, which might not be the case. Also, due to the large feature size, the computational effort is hugely increased compared to the NB classifier."
      ]
    },
    {
      "metadata": {
        "id": "iwaKwfWQhRk_",
        "colab_type": "text"
      },
      "cell_type": "markdown",
      "source": [
        "# Submission \n"
      ]
    },
    {
      "metadata": {
        "id": "aOUeaET5ijk-",
        "colab_type": "code",
        "colab": {}
      },
      "cell_type": "code",
      "source": [
        "# Write your names and student numbers here:\n",
        "# Kai Liang 12046477\n",
        "# Xiaoxiao Wen 12320323"
      ],
      "execution_count": 0,
      "outputs": []
    },
    {
      "metadata": {
        "id": "3A9K-H6Tii3X",
        "colab_type": "text"
      },
      "cell_type": "markdown",
      "source": [
        "**That's it!**\n",
        "\n",
        "- Check if you answered all questions fully and correctly. \n",
        "- Download your completed notebook using `File -> Download .ipynb` \n",
        "- Also save your notebook as a Github Gist. Get it by choosing `File -> Save as Github Gist`.  Make sure that the gist has a secret link (not public).\n",
        "- Check if your answers are all included in the file you submit (e.g. check the Github Gist URL)\n",
        "- Submit your .ipynb file and link to the Github Gist via *Canvas*. One submission per group. "
      ]
    }
  ]
}